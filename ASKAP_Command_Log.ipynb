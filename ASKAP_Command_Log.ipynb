{
  "nbformat": 4,
  "nbformat_minor": 0,
  "metadata": {
    "colab": {
      "provenance": [],
      "collapsed_sections": [
        "YMBE0EN4-UmM"
      ],
      "authorship_tag": "ABX9TyOJxf4K/pdLNvGjyOLn+Ljp"
    },
    "kernelspec": {
      "name": "python3",
      "display_name": "Python 3"
    },
    "language_info": {
      "name": "python"
    }
  },
  "cells": [
    {
      "cell_type": "markdown",
      "source": [
        "- target: GRB221009a\n",
        "- observation log: multiple, see ASKAP folder"
      ],
      "metadata": {
        "id": "G5sWexI1N-3Q"
      }
    },
    {
      "cell_type": "code",
      "source": [
        "def EVPA_3C286(wavelength, freq): # EVPA (deg), wavelength (m), freq (GHz)\n",
        "  return 29.53 + wavelength**2 * (4005.88*log10(freq)**3 - 39.38)\n",
        "\n",
        "def P_3C286(wavelength): # Polarization fraction, wavelength (m)\n",
        "  return 0.080 - 0.053*wavelength**2 - 0.015*log10(wavelength**2)\n",
        "\n",
        "# still need stokes I, look over and ask help on how to set this up in setjy()"
      ],
      "metadata": {
        "id": "edGmKgXm8oUF"
      },
      "execution_count": null,
      "outputs": []
    },
    {
      "cell_type": "markdown",
      "source": [
        "# 0. Defining Variables"
      ],
      "metadata": {
        "id": "pRrsytd-7qlJ"
      }
    },
    {
      "cell_type": "code",
      "source": [
        "# extract measurement set\n",
        "tar -xvf scienceData.AS113_67.SB44857.AS113_67.beam14_averaged_cal.leakage.ms.tar\n",
        "tar -xvf scienceData.AS113_68.SB44918.AS113_68.beam14_averaged_cal.leakage.ms.tar\n",
        "tar -xvf scienceData.AS113_69.SB45060.AS113_69.beam14_averaged_cal.leakage.ms.tar\n",
        "tar -xvf scienceData.AS113_70.SB45086.AS113_70.beam14_averaged_cal.leakage.ms.tar\n",
        "tar -xvf scienceData.AS113_71.SB45416.AS113_71.beam14_averaged_cal.leakage.ms.tar\n",
        "tar -xvf scienceData.CRACOTest_A.SB46350.CRACOTest_A.beam14_averaged_cal.leakage.ms.tar\n",
        "tar -xvf scienceData.CRACOTest_A.SB46419.CRACOTest_A.beam14_averaged_cal.leakage.ms.tar\n",
        "tar -xvf scienceData.CRACOTest_B.SB46492.CRACOTest_B.beam14_averaged_cal.leakage.ms.tar\n",
        "tar -xvf scienceData.CRACOTest_B.SB46554.CRACOTest_B.beam14_averaged_cal.leakage.ms.tar\n",
        "tar -xvf scienceData.CRACO_ULP2.SB48611.CRACO_ULP2.beam14_averaged_cal.leakage.ms.tar"
      ],
      "metadata": {
        "id": "p6ZKVcWtW_Q6"
      },
      "execution_count": null,
      "outputs": []
    },
    {
      "cell_type": "code",
      "source": [
        "# make subdirectories for each observation\n",
        "mkdir 44857 &&\n",
        "mkdir 44918 &&\n",
        "mkdir 45060 &&\n",
        "mkdir 45086 &&\n",
        "mkdir 45416 &&\n",
        "mkdir 46350 &&\n",
        "mkdir 46419 &&\n",
        "mkdir 46492 &&\n",
        "mkdir 46554 &&\n",
        "mkdir 48511"
      ],
      "metadata": {
        "id": "ojGA7jTQeod1"
      },
      "execution_count": null,
      "outputs": []
    },
    {
      "cell_type": "code",
      "source": [
        "# move files into subdirectories\n",
        "mv scienceData.AS113_67.SB44857.AS113_67.beam14_averaged_cal.leakage.ms 44857 &&\n",
        "mv scienceData.AS113_67.SB44857.AS113_67.beam14_averaged_cal.leakage.ms.tar 44857 &&\n",
        "\n",
        "mv scienceData.AS113_68.SB44918.AS113_68.beam14_averaged_cal.leakage.ms 44918 &&\n",
        "mv scienceData.AS113_68.SB44918.AS113_68.beam14_averaged_cal.leakage.ms.tar 44918 &&\n",
        "\n",
        "mv scienceData.AS113_69.SB45060.AS113_69.beam14_averaged_cal.leakage.ms 45060 &&\n",
        "mv scienceData.AS113_69.SB45060.AS113_69.beam14_averaged_cal.leakage.ms.tar 45060 &&\n",
        "\n",
        "mv scienceData.AS113_70.SB45086.AS113_70.beam14_averaged_cal.leakage.ms 45086 &&\n",
        "mv scienceData.AS113_70.SB45086.AS113_70.beam14_averaged_cal.leakage.ms.tar 45086 &&\n",
        "\n",
        "mv scienceData.AS113_71.SB45416.AS113_71.beam14_averaged_cal.leakage.ms 45416 &&\n",
        "mv scienceData.AS113_71.SB45416.AS113_71.beam14_averaged_cal.leakage.ms.tar 45416 &&\n",
        "\n",
        "mv scienceData.CRACOTest_A.SB46350.CRACOTest_A.beam14_averaged_cal.leakage.ms 46350 &&\n",
        "mv scienceData.CRACOTest_A.SB46350.CRACOTest_A.beam14_averaged_cal.leakage.ms.tar 46350 &&\n",
        "\n",
        "mv scienceData.CRACOTest_A.SB46419.CRACOTest_A.beam14_averaged_cal.leakage.ms 46419 &&\n",
        "mv scienceData.CRACOTest_A.SB46419.CRACOTest_A.beam14_averaged_cal.leakage.ms.tar 46419 &&\n",
        "\n",
        "mv scienceData.CRACOTest_B.SB46492.CRACOTest_B.beam14_averaged_cal.leakage.ms 46492 &&\n",
        "mv scienceData.CRACOTest_B.SB46492.CRACOTest_B.beam14_averaged_cal.leakage.ms.tar 46492 &&\n",
        "\n",
        "mv scienceData.CRACOTest_B.SB46554.CRACOTest_B.beam14_averaged_cal.leakage.ms 46554 &&\n",
        "mv scienceData.CRACOTest_B.SB46554.CRACOTest_B.beam14_averaged_cal.leakage.ms.tar 46554 &&\n",
        "\n",
        "mv scienceData.CRACO_ULP2.SB48611.CRACO_ULP2.beam14_averaged_cal.leakage.ms 48511 &&\n",
        "mv scienceData.CRACO_ULP2.SB48611.CRACO_ULP2.beam14_averaged_cal.leakage.ms.tar 48511"
      ],
      "metadata": {
        "id": "mXwsmUIjg0iB"
      },
      "execution_count": null,
      "outputs": []
    },
    {
      "cell_type": "markdown",
      "source": [
        "filing"
      ],
      "metadata": {
        "id": "N80eqf5vj04y"
      }
    },
    {
      "cell_type": "code",
      "source": [
        "homeDir = 'Volumes/G-RAID_Thunderbold_4/xiao_data/ASKAP'\n",
        "ms44857=\"scienceData.AS113_67.SB44857.AS113_67.beam14_averaged_cal.leakage.ms\"\n",
        "ms44918=\"scienceData.AS113_68.SB44918.AS113_68.beam14_averaged_cal.leakage.ms\"\n",
        "ms45060=\"scienceData.AS113_69.SB45060.AS113_69.beam14_averaged_cal.leakage.ms\"\n",
        "ms45086=\"scienceData.AS113_70.SB45086.AS113_70.beam14_averaged_cal.leakage.ms\"\n",
        "ms45416=\"scienceData.AS113_71.SB45416.AS113_71.beam14_averaged_cal.leakage.ms\"\n",
        "ms46350=\"scienceData.CRACOTest_A.SB46350.CRACOTest_A.beam14_averaged_cal.leakage.ms\"\n",
        "ms46419=\"scienceData.CRACOTest_A.SB46419.CRACOTest_A.beam14_averaged_cal.leakage.ms\"\n",
        "ms46492=\"scienceData.CRACOTest_B.SB46492.CRACOTest_B.beam14_averaged_cal.leakage.ms\"\n",
        "ms46554=\"scienceData.CRACOTest_B.SB46554.CRACOTest_B.beam14_averaged_cal.leakage.ms\"\n",
        "ms48611=\"scienceData.CRACO_ULP2.SB48611.CRACO_ULP2.beam14_averaged_cal.leakage.ms\"\n"
      ],
      "metadata": {
        "id": "-zq4hfdriGgR"
      },
      "execution_count": null,
      "outputs": []
    },
    {
      "cell_type": "markdown",
      "source": [
        "# 2. Initial data lookover\n",
        "- https://casadocs.readthedocs.io/en/latest/notebooks/data_examination.html"
      ],
      "metadata": {
        "id": "YMBE0EN4-UmM"
      }
    },
    {
      "cell_type": "code",
      "source": [
        "# open CASA in working directory\n",
        "casa\n",
        "\n",
        "# list individual scans including data, date, scans, sources (fields), antenna locations, etc\n",
        "# IntegrationTime is total duration\n",
        "# identify an antenna close to the centre with no issues for calibration from the txt file\n",
        "metadata = listobs(vis=filename, listfile=filename[:-2]+'txt', overwrite=True)\n",
        "\n",
        "# examine the observing conditions by opening the observer log .obslog\n",
        "# VLA observer logs can be downloaded from http://www.vla.nrao.edu/cgi-bin/oplogs.cgi\n",
        "# enter the date range of interest and click Show Logs\n",
        "\n",
        "# get a sense of the array by plotting\n",
        "plotants(vis=filename, figfile=antennaLayoutPlot, exclude=badAntInit)\n",
        "clearstat() # This removes any existing table locks generated by plotants()\n"
      ],
      "metadata": {
        "id": "gxyauh8Y-Ur8"
      },
      "execution_count": null,
      "outputs": []
    },
    {
      "cell_type": "markdown",
      "source": [
        "# 6. Initial imaging"
      ],
      "metadata": {
        "id": "cHqmprO33UfP"
      }
    },
    {
      "cell_type": "code",
      "source": [
        "# @title plot calibrated amplitude vs baseline\n",
        "# we expect greater observed flux at shorter baselines for extended sources, since shorter baselines see more of the sky, supernovae remnants are extended\n",
        "# we expect point sources to be at constant flux with frequency\n",
        "# field numbers have changed\n",
        "plotms(vis=filename, xaxis='uvwave', yaxis='amp', ydatacolumn='data', field='',# avgtime=avgTime/2, correlation='RR',\n",
        "        overwrite=True)\n"
      ],
      "metadata": {
        "id": "iHW2ZJEo3ZI6"
      },
      "execution_count": null,
      "outputs": []
    },
    {
      "cell_type": "code",
      "source": [
        "# @title image and deconvolute the calibrated target\n",
        "\n",
        "# tclean() only removes the contributions of the dirty beam\n",
        "# noise part of the true sky image (residuals) are retained\n",
        "# VLA resolves 1/16k radians on longest baseline which is ~12 arcsec\n",
        "# effective cleaning occurs at 3-5 image pixels per resolution pixel (12\"/2.5\"~5)\n",
        "# target is ~ 9' ~ 540\" ~ 216 image pixels\n",
        "# efficient if the image dimensions are a multiple of 30\n",
        "# tclean() applies an internal 1.2 multipler on image dimension\n",
        "# use M2 to select regions containing emission sources\n",
        "# double M2 to confirm region\n",
        "# select Erase instead of Add to select regions to remove\n",
        "# tap M3 to change saturation\n",
        "# iterate multi scale clean\n",
        "filenameCal = ''\n",
        "cleanImage = ''\n",
        "\n",
        "tclean(vis=filename,imagename='15OCT2022',\n",
        "      field='',spw='',\n",
        "      specmode='mfs',\n",
        "      niter=20000*10, # or 100, since we have multiple sources within the beam\n",
        "      gain=0.1, threshold='0.2mJy', # change threshold to 5 times stdev (0.2 mJy, stdev 42 μJy(/beam))\n",
        "      gridder='standard',\n",
        "      # deconvolver='multiscale', # remove\n",
        "      # scales=[0, 6, 18, 54], smallscalebias=0.9, # only relevant for extended sources\n",
        "      interactive=True,\n",
        "      imsize=[1800,1800], cell=['2.0arcsec','2.0arcsec'], # imsize and cell should be such that 1 pixel in the final image corresponds to 1 pixel in the DS9 images\n",
        "      # imsize is number of pixels, pixel*cellsize = angular size of picture\n",
        "      # CDELT1 (ra), CDELT2 (dec) in image header are degrees per pixel, correspond to ~2\" per pixel\n",
        "      stokes='IQUV', # keep remaining parameters\n",
        "      weighting='briggs',robust=0.5,\n",
        "      pbcor=False,\n",
        "      savemodel='modelcolumn')"
      ],
      "metadata": {
        "id": "YWNSlaSn-grH"
      },
      "execution_count": null,
      "outputs": []
    },
    {
      "cell_type": "code",
      "source": [
        "tclean(vis=ms44918,imagename='17OCT2022',\n",
        "      field='',spw='',\n",
        "      specmode='mfs',\n",
        "      niter=20000, # or 100, since we have multiple sources within the beam\n",
        "      gain=0.1, threshold='0.2mJy', # change threshold to 5 times stdev (0.2 mJy, stdev 42 μJy(/beam))\n",
        "      gridder='standard',\n",
        "      interactive=True,\n",
        "      imsize=[1800,1800], cell=['2.0arcsec','2.0arcsec'],\n",
        "      stokes='IQUV', # keep remaining parameters\n",
        "      weighting='briggs',robust=0.5,\n",
        "      pbcor=False,\n",
        "      savemodel='modelcolumn')"
      ],
      "metadata": {
        "id": "YypNXejLTvsU"
      },
      "execution_count": null,
      "outputs": []
    },
    {
      "cell_type": "code",
      "source": [
        "# @title view the target image\n",
        "# comprised of clean components convolved with a restoring beam and added to the remaining residuals\n",
        "viewer('15OCT2022'+'.image')"
      ],
      "metadata": {
        "id": "POm1zTiA_ZJM"
      },
      "execution_count": null,
      "outputs": []
    },
    {
      "cell_type": "markdown",
      "source": [
        "# Bugs & Other\n",
        "- segmentation fault\n",
        " - CPU cannot parse command\n",
        "- screen locked, just showing background, run the following in Terminal\n",
        " - ssh -L 5903:localhost:5900 hanyu@keppie.dunlap.utoronto.ca\n",
        " - % kill WindowServer\n",
        " - % killall -u hanyu\n",
        "- plotting the 4 correlations of 25 baselines per antenna1 gives 100 lines\n",
        " - corr='RR' only plots the RR correlation, giving only 25 lines\n",
        " - plotms(vis=filename, xaxis='freq', yaxis='amp', iteraxis='antenna',field=ampCal)\n",
        "- radio frequency interference (RFI) from human sources needs to be filtered\n",
        " - astronomical sources are very faint, thus flag strong signals that appear when inspecting RL, LR fields\n",
        " - external programs and CASA can do this much more precisely than by eye\n"
      ],
      "metadata": {
        "id": "Sf6bjSm9_1R6"
      }
    }
  ]
}