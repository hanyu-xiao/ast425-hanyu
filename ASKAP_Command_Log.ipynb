{
  "nbformat": 4,
  "nbformat_minor": 0,
  "metadata": {
    "colab": {
      "provenance": [],
      "collapsed_sections": [
        "pRrsytd-7qlJ",
        "YMBE0EN4-UmM",
        "Sf6bjSm9_1R6"
      ],
      "authorship_tag": "ABX9TyN2P6snW99z2SkSGXQhkywO"
    },
    "kernelspec": {
      "name": "python3",
      "display_name": "Python 3"
    },
    "language_info": {
      "name": "python"
    }
  },
  "cells": [
    {
      "cell_type": "markdown",
      "source": [
        "About\n",
        "- target: wide field, beam 14 has GRB221009a near centre\n",
        "- GRB RA 19.13.03.48   DEC +19.46.24.6\n",
        "- beam 14 uses field centre at RA 19:20:00.0000, DEC +20.18.05.0000, corrected with fix_ms\n",
        "- 2400x2400 pixels at 3\" each encapsulates beam 14\n",
        "- `fixed_askap_datasets.tar` untarred produces 10 ms files in directory ASKAP/hanyu/\n"
      ],
      "metadata": {
        "id": "G5sWexI1N-3Q"
      }
    },
    {
      "cell_type": "code",
      "source": [
        "- SpwID  Name     Chans   Frame   Ch0(MHz)  ChanWid(kHz)  TotBW(kHz) CtrFreq(MHz)  Corrs\n",
        "- 0      NO_NAME    288   TOPO     743.991      1000.000    288000.0    887.4907   XX  XY  YX  YY\n",
        "- homeDir = '/Volumes/G-RAID_Thunderbolt_4/xiao_data/ASKAP'"
      ],
      "metadata": {
        "id": "e48s9-Mv4nSx"
      },
      "execution_count": null,
      "outputs": []
    },
    {
      "cell_type": "markdown",
      "source": [
        "Address\n",
        "- images have half the flux density as ASKAP images, fix_ms process is killed during corrs correction due to mac os\n",
        "- `no corrected data in first column` wsclean error, likely due to fixMS getting killed"
      ],
      "metadata": {
        "id": "4SBBk7ILFX7G"
      }
    },
    {
      "cell_type": "markdown",
      "source": [
        "# Data Organizing"
      ],
      "metadata": {
        "id": "pRrsytd-7qlJ"
      }
    },
    {
      "cell_type": "code",
      "source": [
        "# measurement set filenames\n",
        "\n",
        "44780 44857 44918 45060 45086 45416 46350 46419 46492 46554 48511\n",
        "\n",
        "SB44780.ms\n",
        "SB44857.ms\n",
        "SB44918.ms\n",
        "SB45060.ms\n",
        "SB45086.ms\n",
        "SB45416.ms\n",
        "SB46350.ms\n",
        "SB46419.ms\n",
        "SB46492.ms\n",
        "SB46554.ms\n",
        "SB48611.ms\n",
        "\n",
        "scienceData.AS113_66.SB44780.AS113_66.beam14_averaged_cal.leakage.ms\n",
        "\n",
        "scienceData.AS113_67.SB44857.AS113_67.beam14_averaged_cal.leakage.ms\n",
        "\n",
        "scienceData.AS113_68.SB44918.AS113_68.beam14_averaged_cal.leakage.ms\n",
        "\n",
        "scienceData.AS113_69.SB45060.AS113_69.beam14_averaged_cal.leakage.ms\n",
        "\n",
        "scienceData.AS113_70.SB45086.AS113_70.beam14_averaged_cal.leakage.ms\n",
        "\n",
        "scienceData.AS113_71.SB45416.AS113_71.beam14_averaged_cal.leakage.ms\n",
        "\n",
        "scienceData.CRACOTest_A.SB46350.CRACOTest_A.beam14_averaged_cal.leakage.ms\n",
        "\n",
        "scienceData.CRACOTest_A.SB46419.CRACOTest_A.beam14_averaged_cal.leakage.ms\n",
        "\n",
        "scienceData.CRACOTest_B.SB46492.CRACOTest_B.beam14_averaged_cal.leakage.ms\n",
        "\n",
        "scienceData.CRACOTest_B.SB46554.CRACOTest_B.beam14_averaged_cal.leakage.ms\n",
        "\n",
        "scienceData.CRACO_ULP2.SB48611.CRACO_ULP2.beam14_averaged_cal.leakage.ms"
      ],
      "metadata": {
        "id": "HCefq3euKHGJ"
      },
      "execution_count": null,
      "outputs": []
    },
    {
      "cell_type": "code",
      "source": [
        "# make subdirectories for each observation\n",
        "mkdir 44780f &&\n",
        "mkdir 44857f &&\n",
        "mkdir 44918f &&\n",
        "mkdir 45060f &&\n",
        "mkdir 45086f &&\n",
        "mkdir 45416f &&\n",
        "mkdir 46350f &&\n",
        "mkdir 46419f &&\n",
        "mkdir 46492f &&\n",
        "mkdir 46554f &&\n",
        "mkdir 48511f"
      ],
      "metadata": {
        "id": "ojGA7jTQeod1"
      },
      "execution_count": null,
      "outputs": []
    },
    {
      "cell_type": "code",
      "source": [
        "# extract measurement set\n",
        "\n",
        "mv scienceData.AS113_66.SB44780.AS113_66.beam14_averaged_cal.leakage.ms.tar 44780\n",
        "tar -xvf *.tar\n",
        "\n",
        "tar -xvf scienceData.AS113_67.SB44857.AS113_67.beam14_averaged_cal.leakage.ms.tar\n",
        "tar -xvf scienceData.AS113_68.SB44918.AS113_68.beam14_averaged_cal.leakage.ms.tar\n",
        "tar -xvf scienceData.AS113_69.SB45060.AS113_69.beam14_averaged_cal.leakage.ms.tar\n",
        "tar -xvf scienceData.AS113_70.SB45086.AS113_70.beam14_averaged_cal.leakage.ms.tar\n",
        "tar -xvf scienceData.AS113_71.SB45416.AS113_71.beam14_averaged_cal.leakage.ms.tar\n",
        "tar -xvf scienceData.CRACOTest_A.SB46350.CRACOTest_A.beam14_averaged_cal.leakage.ms.tar\n",
        "tar -xvf scienceData.CRACOTest_A.SB46419.CRACOTest_A.beam14_averaged_cal.leakage.ms.tar\n",
        "tar -xvf scienceData.CRACOTest_B.SB46492.CRACOTest_B.beam14_averaged_cal.leakage.ms.tar\n",
        "tar -xvf scienceData.CRACOTest_B.SB46554.CRACOTest_B.beam14_averaged_cal.leakage.ms.tar\n",
        "tar -xvf scienceData.CRACO_ULP2.SB48611.CRACO_ULP2.beam14_averaged_cal.leakage.ms.tar"
      ],
      "metadata": {
        "id": "p6ZKVcWtW_Q6"
      },
      "execution_count": null,
      "outputs": []
    },
    {
      "cell_type": "code",
      "source": [
        "# move files into subdirectories\n",
        "mv scienceData.AS113_67.SB44857.AS113_67.beam14_averaged_cal.leakage.ms 44857 &&\n",
        "mv scienceData.AS113_67.SB44857.AS113_67.beam14_averaged_cal.leakage.ms.tar 44857 &&\n",
        "\n",
        "mv scienceData.AS113_68.SB44918.AS113_68.beam14_averaged_cal.leakage.ms 44918 &&\n",
        "mv scienceData.AS113_68.SB44918.AS113_68.beam14_averaged_cal.leakage.ms.tar 44918 &&\n",
        "\n",
        "mv scienceData.AS113_69.SB45060.AS113_69.beam14_averaged_cal.leakage.ms 45060 &&\n",
        "mv scienceData.AS113_69.SB45060.AS113_69.beam14_averaged_cal.leakage.ms.tar 45060 &&\n",
        "\n",
        "mv scienceData.AS113_70.SB45086.AS113_70.beam14_averaged_cal.leakage.ms 45086 &&\n",
        "mv scienceData.AS113_70.SB45086.AS113_70.beam14_averaged_cal.leakage.ms.tar 45086 &&\n",
        "\n",
        "mv scienceData.AS113_71.SB45416.AS113_71.beam14_averaged_cal.leakage.ms 45416 &&\n",
        "mv scienceData.AS113_71.SB45416.AS113_71.beam14_averaged_cal.leakage.ms.tar 45416 &&\n",
        "\n",
        "mv scienceData.CRACOTest_A.SB46350.CRACOTest_A.beam14_averaged_cal.leakage.ms 46350 &&\n",
        "mv scienceData.CRACOTest_A.SB46350.CRACOTest_A.beam14_averaged_cal.leakage.ms.tar 46350 &&\n",
        "\n",
        "mv scienceData.CRACOTest_A.SB46419.CRACOTest_A.beam14_averaged_cal.leakage.ms 46419 &&\n",
        "mv scienceData.CRACOTest_A.SB46419.CRACOTest_A.beam14_averaged_cal.leakage.ms.tar 46419 &&\n",
        "\n",
        "mv scienceData.CRACOTest_B.SB46492.CRACOTest_B.beam14_averaged_cal.leakage.ms 46492 &&\n",
        "mv scienceData.CRACOTest_B.SB46492.CRACOTest_B.beam14_averaged_cal.leakage.ms.tar 46492 &&\n",
        "\n",
        "mv scienceData.CRACOTest_B.SB46554.CRACOTest_B.beam14_averaged_cal.leakage.ms 46554 &&\n",
        "mv scienceData.CRACOTest_B.SB46554.CRACOTest_B.beam14_averaged_cal.leakage.ms.tar 46554 &&\n",
        "\n",
        "mv scienceData.CRACO_ULP2.SB48611.CRACO_ULP2.beam14_averaged_cal.leakage.ms 48511 &&\n",
        "mv scienceData.CRACO_ULP2.SB48611.CRACO_ULP2.beam14_averaged_cal.leakage.ms.tar 48511"
      ],
      "metadata": {
        "id": "mXwsmUIjg0iB"
      },
      "execution_count": null,
      "outputs": []
    },
    {
      "cell_type": "markdown",
      "source": [
        "# wsclean imaging"
      ],
      "metadata": {
        "id": "cHqmprO33UfP"
      }
    },
    {
      "cell_type": "markdown",
      "source": [
        "`wsclean -reorder -name SB4 -size 3240 3240 -scale 2.0arcsec -weight briggs -0.5 -weighting-rank-filter 3 -auto-mask 3.0 -auto-threshold 1.5 -niter 10000 -clean-border 2 -mgain 0.5 -fit-beam -join-channels -channels-out 6 -pol I -mem 50 SB4.ms `"
      ],
      "metadata": {
        "id": "n_F8KkjYRVAZ"
      }
    },
    {
      "cell_type": "markdown",
      "source": [
        "- `-channels-out` may need to be changed to 72 (or even 288) to avoid bandwidth depolarization\n",
        "- image needs 1.8 degrees squared to capture sidelobe sources, -> 3240 pixels\n",
        "- ASKAP images use 2.0 arcsec per pixel"
      ],
      "metadata": {
        "id": "dFapeI8wRNht"
      }
    },
    {
      "cell_type": "code",
      "source": [
        "# @title wsclean I image on fixed ms files\n",
        "\n",
        "wsclean -reorder -name SB44780I -size 3240 3240 -scale 2.0arcsec -weight briggs -0.5 -weighting-rank-filter 3 -auto-mask 3.0 -auto-threshold 1.5 -niter 10000 -clean-border 2 -mgain 0.5 -fit-beam -join-channels -channels-out 6 -pol I -mem 50 SB44780.ms\n",
        "\n",
        "wsclean -reorder -name SB44857I -size 3240 3240 -scale 2.0arcsec -weight briggs -0.5 -weighting-rank-filter 3 -auto-mask 3.0 -auto-threshold 1.5 -niter 10000 -clean-border 2 -mgain 0.5 -fit-beam -join-channels -channels-out 6 -pol I -mem 50 SB44857.ms\n",
        "\n",
        "wsclean -reorder -name SB44918I -size 3240 3240 -scale 2.0arcsec -weight briggs -0.5 -weighting-rank-filter 3 -auto-mask 3.0 -auto-threshold 1.5 -niter 10000 -clean-border 2 -mgain 0.5 -fit-beam -join-channels -channels-out 6 -pol I -mem 50 SB44918.ms\n",
        "\n",
        "wsclean -reorder -name SB45060I -size 3240 3240 -scale 2.0arcsec -weight briggs -0.5 -weighting-rank-filter 3 -auto-mask 3.0 -auto-threshold 1.5 -niter 10000 -clean-border 2 -mgain 0.5 -fit-beam -join-channels -channels-out 6 -pol I -mem 50 SB45060.ms\n",
        "\n",
        "wsclean -reorder -name SB45086I -size 3240 3240 -scale 2.0arcsec -weight briggs -0.5 -weighting-rank-filter 3 -auto-mask 3.0 -auto-threshold 1.5 -niter 10000 -clean-border 2 -mgain 0.5 -fit-beam -join-channels -channels-out 6 -pol I -mem 50 SB45086.ms\n",
        "\n",
        "wsclean -reorder -name SB45416I -size 3240 3240 -scale 2.0arcsec -weight briggs -0.5 -weighting-rank-filter 3 -auto-mask 3.0 -auto-threshold 1.5 -niter 10000 -clean-border 2 -mgain 0.5 -fit-beam -join-channels -channels-out 6 -pol I -mem 50 SB45416.ms\n",
        "\n",
        "wsclean -reorder -name SB46350I -size 3240 3240 -scale 2.0arcsec -weight briggs -0.5 -weighting-rank-filter 3 -auto-mask 3.0 -auto-threshold 1.5 -niter 10000 -clean-border 2 -mgain 0.5 -fit-beam -join-channels -channels-out 6 -pol I -mem 50 SB46350.ms\n",
        "\n",
        "wsclean -reorder -name SB46419I -size 3240 3240 -scale 2.0arcsec -weight briggs -0.5 -weighting-rank-filter 3 -auto-mask 3.0 -auto-threshold 1.5 -niter 10000 -clean-border 2 -mgain 0.5 -fit-beam -join-channels -channels-out 6 -pol I -mem 50 SB46419.ms\n",
        "\n",
        "wsclean -reorder -name SB46492I -size 3240 3240 -scale 2.0arcsec -weight briggs -0.5 -weighting-rank-filter 3 -auto-mask 3.0 -auto-threshold 1.5 -niter 10000 -clean-border 2 -mgain 0.5 -fit-beam -join-channels -channels-out 6 -pol I -mem 50 SB46492.ms\n",
        "\n",
        "wsclean -reorder -name SB46554I -size 3240 3240 -scale 2.0arcsec -weight briggs -0.5 -weighting-rank-filter 3 -auto-mask 3.0 -auto-threshold 1.5 -niter 10000 -clean-border 2 -mgain 0.5 -fit-beam -join-channels -channels-out 6 -pol I -mem 50 SB46554.ms\n",
        "\n",
        "wsclean -reorder -name SB48611I -size 3240 3240 -scale 2.0arcsec -weight briggs -0.5 -weighting-rank-filter 3 -auto-mask 3.0 -auto-threshold 1.5 -niter 10000 -clean-border 2 -mgain 0.5 -fit-beam -join-channels -channels-out 6 -pol I -mem 50 SB48611.ms"
      ],
      "metadata": {
        "id": "Kj2vHyoU-Vbx"
      },
      "execution_count": null,
      "outputs": []
    },
    {
      "cell_type": "code",
      "source": [
        "# @title wsclean Q image on fixed ms files\n",
        "\n",
        "wsclean -reorder -name SB44780Q -size 3240 3240 -scale 2.0arcsec -weight briggs -0.5 -weighting-rank-filter 3 -auto-mask 3.0 -auto-threshold 1.5 -niter 10000 -clean-border 2 -mgain 0.5 -fit-beam -join-channels -channels-out 72 -pol Q -mem 50 SB44780.ms\n",
        "\n",
        "wsclean -reorder -name SB44857Q -size 3240 3240 -scale 2.0arcsec -weight briggs -0.5 -weighting-rank-filter 3 -auto-mask 3.0 -auto-threshold 1.5 -niter 10000 -clean-border 2 -mgain 0.5 -fit-beam -join-channels -channels-out 72 -pol Q -mem 50 SB44857.ms\n",
        "\n",
        "wsclean -reorder -name SB44918Q -size 3240 3240 -scale 2.0arcsec -weight briggs -0.5 -weighting-rank-filter 3 -auto-mask 3.0 -auto-threshold 1.5 -niter 10000 -clean-border 2 -mgain 0.5 -fit-beam -join-channels -channels-out 72 -pol Q -mem 50 SB44918.ms\n",
        "\n",
        "wsclean -reorder -name SB45060Q -size 3240 3240 -scale 2.0arcsec -weight briggs -0.5 -weighting-rank-filter 3 -auto-mask 3.0 -auto-threshold 1.5 -niter 10000 -clean-border 2 -mgain 0.5 -fit-beam -join-channels -channels-out 72 -pol Q -mem 50 SB45060.ms\n",
        "\n",
        "wsclean -reorder -name SB45086Q -size 3240 3240 -scale 2.0arcsec -weight briggs -0.5 -weighting-rank-filter 3 -auto-mask 3.0 -auto-threshold 1.5 -niter 10000 -clean-border 2 -mgain 0.5 -fit-beam -join-channels -channels-out 72 -pol Q -mem 50 SB45086.ms\n",
        "\n",
        "wsclean -reorder -name SB45416Q -size 3240 3240 -scale 2.0arcsec -weight briggs -0.5 -weighting-rank-filter 3 -auto-mask 3.0 -auto-threshold 1.5 -niter 10000 -clean-border 2 -mgain 0.5 -fit-beam -join-channels -channels-out 72 -pol Q -mem 50 SB45416.ms\n",
        "\n",
        "wsclean -reorder -name SB46350Q -size 3240 3240 -scale 2.0arcsec -weight briggs -0.5 -weighting-rank-filter 3 -auto-mask 3.0 -auto-threshold 1.5 -niter 10000 -clean-border 2 -mgain 0.5 -fit-beam -join-channels -channels-out 72 -pol Q -mem 50 SB46350.ms\n",
        "\n",
        "wsclean -reorder -name SB46419Q -size 3240 3240 -scale 2.0arcsec -weight briggs -0.5 -weighting-rank-filter 3 -auto-mask 3.0 -auto-threshold 1.5 -niter 10000 -clean-border 2 -mgain 0.5 -fit-beam -join-channels -channels-out 72 -pol Q -mem 50 SB46419.ms\n",
        "\n",
        "wsclean -reorder -name SB46492Q -size 3240 3240 -scale 2.0arcsec -weight briggs -0.5 -weighting-rank-filter 3 -auto-mask 3.0 -auto-threshold 1.5 -niter 10000 -clean-border 2 -mgain 0.5 -fit-beam -join-channels -channels-out 72 -pol Q -mem 50 SB46492.ms\n",
        "\n",
        "wsclean -reorder -name SB46554Q -size 3240 3240 -scale 2.0arcsec -weight briggs -0.5 -weighting-rank-filter 3 -auto-mask 3.0 -auto-threshold 1.5 -niter 10000 -clean-border 2 -mgain 0.5 -fit-beam -join-channels -channels-out 72 -pol Q -mem 50 SB46554.ms\n",
        "\n",
        "wsclean -reorder -name SB48611Q -size 3240 3240 -scale 2.0arcsec -weight briggs -0.5 -weighting-rank-filter 3 -auto-mask 3.0 -auto-threshold 1.5 -niter 10000 -clean-border 2 -mgain 0.5 -fit-beam -join-channels -channels-out 72 -pol Q -mem 50 SB48611.ms\n"
      ],
      "metadata": {
        "cellView": "form",
        "id": "QxH5FdaDDaoV"
      },
      "execution_count": null,
      "outputs": []
    },
    {
      "cell_type": "code",
      "source": [
        "# @title fix_ms and wsclean I image\n",
        "\n",
        "fix_ms --no-fix-stokes-factor SB44857fixed.ms\n",
        "\n",
        "wsclean -reorder -name SB44857imageI -size 3240 3240 -scale 3.0arcsec -weight briggs -0.5 -weighting-rank-filter 3 -auto-mask 3.0 -auto-threshold 1.5 -niter 10000 -clean-border 2 -mgain 0.5 -fit-beam -join-channels -channels-out 6 -pol I -mem 50 SB44857fixed.ms\n",
        "\n",
        "\n",
        "fix_ms SB44857fixSF.ms\n",
        "wsclean -reorder -name SB44857imageI -size 3240 3240 -scale 2.0000045arcsec -weight briggs -0.5 -weighting-rank-filter 3 -auto-mask 3.0 -auto-threshold 1.5 -niter 10000 -clean-border 2 -mgain 0.5 -fit-beam -join-channels -channels-out 6 -pol I -mem 50 SB44857fixed.ms\n",
        "\n",
        "\n",
        "cp -R scienceData.AS113_68.SB44918.AS113_68.beam14_averaged_cal.leakage.ms ../44918SF\n",
        "cd ../44918SF &&\n",
        "fix_ms --no-fix-stokes-factor SB44918fixed.ms\n",
        "\n",
        "wsclean -reorder -name SB44918imageI -size 3240 3240 -scale 3.0arcsec -weight briggs -0.5 -weighting-rank-filter 3 -auto-mask 3.0 -auto-threshold 1.5 -niter 10000 -clean-border 2 -mgain 0.5 -fit-beam -join-channels -channels-out 6 -pol I -mem 50 SB44918fixed.ms\n",
        "\n",
        "\n",
        "# 45060 read returned a bad value\n",
        "\n",
        "cp -R 45060/filename.ms ../45060SF\n",
        "\n",
        "fix_ms --no-fix-stokes-factor SB45060fixed.ms\n",
        "\n",
        "wsclean -reorder -name SB45060imageI -size 3240 3240 -scale 3.0arcsec -weight briggs -0.5 -weighting-rank-filter 3 -auto-mask 3.0 -auto-threshold 1.5 -niter 10000 -clean-border 2 -mgain 0.5 -fit-beam -join-channels -channels-out 6 -pol I -mem 50 SB45060fixed.ms\n",
        "\n",
        "\n",
        "\n",
        "fix_ms --no-fix-stokes-factor SB45086fixed.ms\n",
        "\n",
        "wsclean -reorder -name SB45086imageI -size 3240 3240 -scale 3.0arcsec -weight briggs -0.5 -weighting-rank-filter 3 -auto-mask 3.0 -auto-threshold 1.5 -niter 10000 -clean-border 2 -mgain 0.5 -fit-beam -join-channels -channels-out 6 -pol I -mem 50 SB45086fixed.ms\n",
        "\n",
        "\n",
        "fix_ms --no-fix-stokes-factor SB45416fixed.ms\n",
        "\n",
        "wsclean -reorder -name SB45416imageI -size 3240 3240 -scale 3.0arcsec -weight briggs -0.5 -weighting-rank-filter 3 -auto-mask 3.0 -auto-threshold 1.5 -niter 10000 -clean-border 2 -mgain 0.5 -fit-beam -join-channels -channels-out 6 -pol I -mem 50 SB45416fixed.ms\n",
        "\n"
      ],
      "metadata": {
        "id": "pFCoihI-mSdR",
        "cellView": "form"
      },
      "execution_count": null,
      "outputs": []
    },
    {
      "cell_type": "code",
      "source": [
        "# @title fix_ms_dir and fix_ms_corr run separately, then wsclean I\n",
        "fix_ms_dir SB44857sepfix.ms\n",
        "\n",
        "fix_ms_corrs SB44857sepfix.ms\n",
        "\n",
        "wsclean -reorder -name SB44857sepfixI -size 3240 3240 -scale 3.0arcsec -weight briggs -0.5 -weighting-rank-filter 3 -auto-mask 3.0 -auto-threshold 1.5 -niter 10000 -clean-border 2 -mgain 0.5 -fit-beam -join-channels -channels-out 6 -pol I -mem 50 SB44857sepfix.ms\n",
        "\n",
        "\n",
        "# also try with --no-fix-stokes-factor flag\n",
        "fix_ms_dir SB44857sepSF.ms\n",
        "\n",
        "fix_ms_corrs --no-fix-stokes-factor SB44857sepSF.ms\n",
        "\n",
        "wsclean -reorder -name SB44857sepSFI -size 3240 3240 -scale 3.0arcsec -weight briggs -0.5 -weighting-rank-filter 3 -auto-mask 3.0 -auto-threshold 1.5 -niter 10000 -clean-border 2 -mgain 0.5 -fit-beam -join-channels -channels-out 6 -pol I -mem 50 SB44857sepSF.ms\n",
        "\n"
      ],
      "metadata": {
        "id": "TA45swBp-9fr",
        "cellView": "form"
      },
      "execution_count": null,
      "outputs": []
    },
    {
      "cell_type": "code",
      "source": [
        "# @title wsclean I image (1/2 factor off)\n",
        "# off from ASKAP image by a factor of 1/2 due to stokes I correction in fix_ms\n",
        "# MSF image fits files are not being produced, figure out why\n",
        "# no/invalid WEIGHT_SPECTRUM column, using less informative WEIGHT column\n",
        "\n",
        "# read returned a bad value\n",
        "wsclean -reorder -name SB44918imageI -size 3240 3240 -scale 3.0arcsec -weight briggs -0.5 -weighting-rank-filter 3 -auto-mask 3.0 -auto-threshold 1.5 -niter 10000 -clean-border 2 -mgain 0.5 -fit-beam -join-channels -channels-out 6 -pol I -mem 50 SB44918fixed.ms\n",
        "\n",
        "# read returned a bad value\n",
        "wsclean -reorder -name SB45060imageI -size 3240 3240 -scale 3.0arcsec -weight briggs -0.5 -weighting-rank-filter 3 -auto-mask 3.0 -auto-threshold 1.5 -niter 10000 -clean-border 2 -mgain 0.5 -fit-beam -join-channels -channels-out 6 -pol I -mem 50 SB45060fixed.ms\n",
        "\n",
        "#\n",
        "wsclean -reorder -name SB45086imageI -size 3240 3240 -scale 3.0arcsec -weight briggs -0.5 -weighting-rank-filter 3 -auto-mask 3.0 -auto-threshold 1.5 -niter 10000 -clean-border 2 -mgain 0.5 -fit-beam -join-channels -channels-out 6 -pol I -mem 50 SB45086fixed.ms\n",
        "\n",
        "#\n",
        "wsclean -reorder -name SB45416imageI -size 3240 3240 -scale 3.0arcsec -weight briggs -0.5 -weighting-rank-filter 3 -auto-mask 3.0 -auto-threshold 1.5 -niter 10000 -clean-border 2 -mgain 0.5 -fit-beam -join-channels -channels-out 6 -pol I -mem 50 SB45416fixed.ms\n",
        "\n",
        "#\n",
        "wsclean -reorder -name SB46350imageI -size 3240 3240 -scale 3.0arcsec -weight briggs -0.5 -weighting-rank-filter 3 -auto-mask 3.0 -auto-threshold 1.5 -niter 10000 -clean-border 2 -mgain 0.5 -fit-beam -join-channels -channels-out 6 -pol I -mem 50 SB46350fixed.ms\n",
        "\n",
        "#\n",
        "wsclean -reorder -name SB46419imageI -size 3240 3240 -scale 3.0arcsec -weight briggs -0.5 -weighting-rank-filter 3 -auto-mask 3.0 -auto-threshold 1.5 -niter 10000 -clean-border 2 -mgain 0.5 -fit-beam -join-channels -channels-out 6 -pol I -mem 50 SB46419fixed.ms\n",
        "\n",
        "#\n",
        "wsclean -reorder -name SB46492imageI -size 3240 3240 -scale 3.0arcsec -weight briggs -0.5 -weighting-rank-filter 3 -auto-mask 3.0 -auto-threshold 1.5 -niter 10000 -clean-border 2 -mgain 0.5 -fit-beam -join-channels -channels-out 6 -pol I -mem 50 SB46492fixed.ms\n",
        "\n",
        "#\n",
        "wsclean -reorder -name SB46554imageI -size 3240 3240 -scale 3.0arcsec -weight briggs -0.5 -weighting-rank-filter 3 -auto-mask 3.0 -auto-threshold 1.5 -niter 10000 -clean-border 2 -mgain 0.5 -fit-beam -join-channels -channels-out 6 -pol I -mem 50 SB46554fixed.ms\n",
        "\n",
        "#\n",
        "wsclean -reorder -name SB48511imageI -size 3240 3240 -scale 3.0arcsec -weight briggs -0.5 -weighting-rank-filter 3 -auto-mask 3.0 -auto-threshold 1.5 -niter 10000 -clean-border 2 -mgain 0.5 -fit-beam -join-channels -channels-out 6 -pol I -mem 50 SB48511fixed.ms\n"
      ],
      "metadata": {
        "id": "iJ8TrcpkRIXM",
        "cellView": "form"
      },
      "execution_count": null,
      "outputs": []
    },
    {
      "cell_type": "markdown",
      "source": [
        "# Bugs & Other"
      ],
      "metadata": {
        "id": "Sf6bjSm9_1R6"
      }
    },
    {
      "cell_type": "code",
      "source": [
        "# Beam 32 and 33 (ARCHIVE)\n",
        "\n",
        "mv *.tar 44780 &&\n",
        "cd 44780\n",
        "tar -xvf scienceData.AS113_66.SB44780.AS113_66.beam32_averaged_cal.leakage.ms.tar &&\n",
        "tar -xvf scienceData.AS113_66.SB44780.AS113_66.beam33_averaged_cal.leakage.ms.tar &&\n",
        "mv *.beam32* beam32 &&\n",
        "mv *.beam33* beam33\n",
        "\n",
        "cd beam32\n",
        "listobs(vis='scienceData.AS113_66.SB44780.AS113_66.beam32_averaged_cal.leakage.ms', listfile='scienceData.AS113_66.SB44780.AS113_66.beam32_averaged_cal.leakage.txt', overwrite=True)\n",
        "tclean(vis=\"scienceData.AS113_66.SB44780.AS113_66.beam32_averaged_cal.leakage.ms\",imagename='12OCT2022',\n",
        "      niter=0,\n",
        "      interactive=False,\n",
        "      imsize=2400, cell='6arcsec',\n",
        "      stokes='I',\n",
        "      savemodel='modelcolumn')\n",
        "      # pblimit=-0.01"
      ],
      "metadata": {
        "id": "fH3H3yFtpCCk"
      },
      "execution_count": null,
      "outputs": []
    },
    {
      "cell_type": "markdown",
      "source": [
        "# Linux VENV fix_ms initialzation (bugged on MacOS)"
      ],
      "metadata": {
        "id": "CFNAgs8zKwQf"
      }
    },
    {
      "cell_type": "markdown",
      "source": [
        "1. open app Docker Desktop\n",
        "2. try `docker images`, continue if no error\n",
        "3. pull the docker image from the web `docker pull images.canfar.net/cirada/wscleannotebook-3.11@sha256:fd755bc5fe78887515488f7df721ac47a40f5e0b444905a278230cb73871aeaa`\n",
        "4. try `docker images`, continue if parameters are filled\n",
        "5. Start the docker container using the IMAGE ID (can be a different string than shown) `docker run --platform linux/x86_64 -v /Volumes/G-RAID_Thunderbolt_4/xiao_data:/data -it 8eda8678840c`\n",
        "6. terminal should be changed to venv `[root@<sometag>:~#]`\n",
        "7. `cd /data`\n",
        "8. `pip install FixMS`\n",
        "9. navigate to directory containing .ms file\n",
        "10. try `fix_ms -h` as verification of install\n",
        "11. `fix_ms --no-fix-stokes-factor filename.ms`\n",
        "12. rename .ms file to show that it has been fixed\n",
        "13. exit VENV, check listobs to verify ms file has been fixed\n",
        "\n",
        "run fix_ms on a copy of the .ms file"
      ],
      "metadata": {
        "id": "7oPtbDDS2THb"
      }
    },
    {
      "cell_type": "markdown",
      "source": [
        "# CASA (obsolete)"
      ],
      "metadata": {
        "id": "H-DdGjSho71e"
      }
    },
    {
      "cell_type": "code",
      "source": [
        "# https://casadocs.readthedocs.io/en/latest/notebooks/data_examination.html\n",
        "\n",
        "# open CASA in working directory\n",
        "casa\n",
        "\n",
        "# obtain observation log\n",
        "metadata = listobs(vis='filename.ms', listfile='filename.txt', overwrite=True)\n",
        "\n"
      ],
      "metadata": {
        "id": "gxyauh8Y-Ur8"
      },
      "execution_count": null,
      "outputs": []
    },
    {
      "cell_type": "code",
      "source": [
        "# @title tclean example\n",
        "\n",
        "# tclean() only removes the contributions of the dirty beam\n",
        "# noise part of the true sky image (residuals) are retained\n",
        "# efficient if the image dimensions are a multiple of 30\n",
        "from casatools import synthesisutils\n",
        "su = synthesisutils()\n",
        "su.getOptimumSize(345) # Output: 360\n",
        "# see https://casaguides.nrao.edu/index.php/VLA_Continuum_Tutorial_3C391-CASA5.4.0#Multi-scale_Mosaic_Clean for tutorial on tclean\n",
        "\n",
        "# ms44857=\"scienceData.AS113_67.SB44857.AS113_67.beam14_averaged_cal.leakage.ms\"\n",
        "# listobs = listobs(vis=ms44857, listfile=ms44857[:-2]+'txt', overwrite=True)\n",
        "# tclean(vis=ms44857,imagename='15OCT2022',\n",
        "#       field='',spw='',\n",
        "#       specmode='mfs',\n",
        "#       niter=20000*10, # or 100, since we have multiple sources within the beam\n",
        "#       gain=0.1, threshold='0.4mJy', # threshold at 10 times stdev (0.4 mJy, stdev 42 μJy(/beam)), later lower to 5x\n",
        "#       gridder='standard',\n",
        "#       # deconvolver='multiscale', # remove\n",
        "#       # scales=[0, 6, 18, 54], smallscalebias=0.9, # only relevant for extended sources\n",
        "#       interactive=False,\n",
        "#       imsize=[1200,2400], cell=['3arcsec','3arcsec'], # imsize and cell should be such that 1 pixel in the final image corresponds to 1 pixel in the DS9 images\n",
        "#       # imsize is number of pixels, pixel*cellsize = angular size of picture\n",
        "#       # CDELT1 (ra), CDELT2 (dec) in image header are degrees per pixel, correspond to ~2\" per pixel\n",
        "#       stokes='I', # keep remaining parameters\n",
        "#       weighting='briggs',robust=0.5,\n",
        "#       pbcor=False,\n",
        "#       savemodel='modelcolumn')"
      ],
      "metadata": {
        "id": "YWNSlaSn-grH"
      },
      "execution_count": null,
      "outputs": []
    },
    {
      "cell_type": "code",
      "source": [
        "# verify image parameters\n",
        "listobs(vis=\"SB44780beam14_fix.ms\", listfile=\"SB44780beam14_fix.txt\", overwrite=True)\n",
        "tclean(vis=\"SB44780beam14_fix.ms\",imagename='SB44780beam14_fix',\n",
        "      field='',spw='',\n",
        "      specmode='mfs',\n",
        "      usemask='auto-multithresh',\n",
        "      nmajor=10,\n",
        "      niter=0,\n",
        "      gridder='standard',\n",
        "      interactive=False,\n",
        "      imsize=[2400,2400], cell=['6arcsec','6arcsec'],\n",
        "      stokes='I',\n",
        "      weighting='briggs',robust=0.5,\n",
        "      pbcor=False,\n",
        "      restoration=False,\n",
        "      savemodel='modelcolumn')"
      ],
      "metadata": {
        "id": "UCbfGGHNnOz2"
      },
      "execution_count": null,
      "outputs": []
    },
    {
      "cell_type": "code",
      "source": [
        "# preliminary clean\n",
        "tclean(vis=\"SB44780beam14_fix.ms\",imagename='SB44780beam14_fix',\n",
        "      field='',spw='',\n",
        "      specmode='mfs',\n",
        "      usemask='auto-multithresh',\n",
        "      nmajor=10,\n",
        "      niter=20000,\n",
        "      gain=0.1, threshold='0.4mJy', # currently doubled\n",
        "      gridder='standard',\n",
        "      interactive=False,\n",
        "      imsize=[480,480], cell=['2arcsec','2arcsec'],\n",
        "      stokes='I',\n",
        "      weighting='briggs',robust=0.5,\n",
        "      pbcor=False,\n",
        "      # calcres=False,calcpsf=False,\n",
        "      savemodel='modelcolumn')"
      ],
      "metadata": {
        "id": "8dVPPlmeBlFq"
      },
      "execution_count": null,
      "outputs": []
    },
    {
      "cell_type": "code",
      "source": [
        "tclean(vis=\"SB44780beam14_fix.ms\",imagename='SB44780beam14_fix',\n",
        "      field='',spw='',\n",
        "      specmode='mfs',\n",
        "      usemask='auto-multithresh',\n",
        "      nmajor=10,\n",
        "      niter=20000,\n",
        "      gain=0.1,\n",
        "      threshold='0.05mJy', # 50 muJy\n",
        "      # threshold='0.0', noisethreshold=5.0, # defaults\n",
        "      gridder='standard',\n",
        "      interactive=False,\n",
        "      imsize=[480,480], cell=['2arcsec','2arcsec'],\n",
        "      stokes='I',\n",
        "      weighting='briggs',robust=0.5,\n",
        "      pbcor=False,\n",
        "      savemodel='modelcolumn')"
      ],
      "metadata": {
        "collapsed": true,
        "id": "t_Kby4DAIoYw"
      },
      "execution_count": null,
      "outputs": []
    },
    {
      "cell_type": "code",
      "source": [
        "ms44857=\"scienceData.AS113_67.SB44857.AS113_67.beam14_averaged_cal.leakage.ms\"\n",
        "listobs = listobs(vis=ms44857, listfile=ms44857[:-2]+'txt', overwrite=True)\n",
        "tclean(vis=ms44857,imagename='15OCT2022',\n",
        "      field='',spw='',\n",
        "      specmode='mfs',\n",
        "      usemask='auto-multithresh',\n",
        "      nmajor=10,\n",
        "      niter=20000*0,\n",
        "      gain=0.1, threshold='0.2mJy',\n",
        "      gridder='standard',\n",
        "      interactive=False,\n",
        "      imsize=[1200,2400], cell=['3arcsec','3arcsec'],\n",
        "      stokes='I',\n",
        "      weighting='briggs',robust=0.5,\n",
        "      pbcor=False,\n",
        "      savemodel='modelcolumn')"
      ],
      "metadata": {
        "id": "j0v2QjyZb_Z-"
      },
      "execution_count": null,
      "outputs": []
    },
    {
      "cell_type": "code",
      "source": [
        "ms44918=\"scienceData.AS113_68.SB44918.AS113_68.beam14_averaged_cal.leakage.ms\"\n",
        "\n",
        "tclean(vis=ms44918,imagename='17OCT2022',\n",
        "      field='',spw='',\n",
        "      specmode='mfs',\n",
        "      niter=20000,\n",
        "      gain=0.1, threshold='0.2mJy',\n",
        "      gridder='standard',\n",
        "      interactive=True,\n",
        "      imsize=[1800,1800], cell=['2.0arcsec','2.0arcsec'],\n",
        "      stokes='IQUV',\n",
        "      weighting='briggs',robust=0.5,\n",
        "      pbcor=False,\n",
        "      savemodel='modelcolumn')"
      ],
      "metadata": {
        "id": "YypNXejLTvsU"
      },
      "execution_count": null,
      "outputs": []
    },
    {
      "cell_type": "code",
      "source": [
        "ms45060=\"scienceData.AS113_69.SB45060.AS113_69.beam14_averaged_cal.leakage.ms\"\n",
        "tclean(vis=ms45060,imagename='22OCT2022',\n",
        "      field='',spw='',\n",
        "      specmode='mfs',\n",
        "      niter=0*20000,\n",
        "      gain=0.1, threshold='0.2mJy',\n",
        "      gridder='standard',\n",
        "      interactive=False,\n",
        "      imsize=[1800,1800], cell=['2.0arcsec','2.0arcsec'],\n",
        "      stokes='I',\n",
        "      weighting='briggs',robust=0.5,\n",
        "      pbcor=False,\n",
        "      savemodel='modelcolumn')"
      ],
      "metadata": {
        "id": "DB2voIlLYCM9"
      },
      "execution_count": null,
      "outputs": []
    },
    {
      "cell_type": "code",
      "source": [
        "ms45086=\"scienceData.AS113_70.SB45086.AS113_70.beam14_averaged_cal.leakage.ms\"\n",
        "tclean(vis=ms45086, imagename='23OCT2022',\n",
        "      field='',spw='',\n",
        "      specmode='mfs',\n",
        "      niter=20000,\n",
        "      gain=0.1, threshold='0.2mJy',\n",
        "      gridder='standard',\n",
        "      interactive=True,\n",
        "      imsize=[1800,1800], cell=['2.0arcsec','2.0arcsec'],\n",
        "      stokes='I',\n",
        "      weighting='briggs',robust=0.5,\n",
        "      pbcor=False,\n",
        "      savemodel='modelcolumn')"
      ],
      "metadata": {
        "id": "g0yXjh0yYCZu"
      },
      "execution_count": null,
      "outputs": []
    },
    {
      "cell_type": "code",
      "source": [
        "ms45416=\"scienceData.AS113_71.SB45416.AS113_71.beam14_averaged_cal.leakage.ms\"\n",
        "tclean(vis=ms45416, imagename='05NOV2022',\n",
        "      field='',spw='',\n",
        "      specmode='mfs',\n",
        "      niter=20000,\n",
        "      gain=0.1, threshold='0.2mJy',\n",
        "      gridder='standard',\n",
        "      interactive=True,\n",
        "      imsize=[1800,1800], cell=['2.0arcsec','2.0arcsec'],\n",
        "      usemask='auto-multithresh' # may want to tweak noisethreshold (increase if too many points selected) and lownoisethreshold (decrease if stopping too early)\n",
        "      stokes='I',\n",
        "      weighting='briggs',robust=0.5,\n",
        "      pbcor=False,\n",
        "      savemodel='modelcolumn')\n",
        "# can set nmajor = 10"
      ],
      "metadata": {
        "id": "vB3JdXsSYCh4"
      },
      "execution_count": null,
      "outputs": []
    },
    {
      "cell_type": "code",
      "source": [
        "ms46350=\"scienceData.CRACOTest_A.SB46350.CRACOTest_A.beam14_averaged_cal.leakage.ms\"\n",
        "tclean(vis=ms46350, imagename='13DEC2022',\n",
        "      field='',spw='',\n",
        "      specmode='mfs',\n",
        "      niter=20000,\n",
        "      gain=0.1, threshold='0.2mJy',\n",
        "      gridder='standard',\n",
        "      interactive=True,\n",
        "      imsize=[1800,1800], cell=['2.0arcsec','2.0arcsec'],\n",
        "      stokes='I',\n",
        "      weighting='briggs',robust=0.5,\n",
        "      pbcor=False,\n",
        "      savemodel='modelcolumn')"
      ],
      "metadata": {
        "id": "AJke_h3aYCoi"
      },
      "execution_count": null,
      "outputs": []
    },
    {
      "cell_type": "code",
      "source": [
        "ms46419=\"scienceData.CRACOTest_A.SB46419.CRACOTest_A.beam14_averaged_cal.leakage.ms\"\n",
        "tclean(vis=ms46419, imagename='14DEC2022',\n",
        "      field='',spw='',\n",
        "      specmode='mfs',\n",
        "      niter=20000,\n",
        "      gain=0.1, threshold='0.2mJy',\n",
        "      gridder='standard',\n",
        "      interactive=True,\n",
        "      imsize=[1800,1800], cell=['2.0arcsec','2.0arcsec'],\n",
        "      stokes='I',\n",
        "      weighting='briggs',robust=0.5,\n",
        "      pbcor=False,\n",
        "      savemodel='modelcolumn')"
      ],
      "metadata": {
        "id": "H0BdtPE6YCuD"
      },
      "execution_count": null,
      "outputs": []
    },
    {
      "cell_type": "code",
      "source": [
        "ms46492=\"scienceData.CRACOTest_B.SB46492.CRACOTest_B.beam14_averaged_cal.leakage.ms\"\n",
        "tclean(vis=ms46492, imagename='15DEC2022',\n",
        "      field='',spw='',\n",
        "      specmode='mfs',\n",
        "      niter=20000,\n",
        "      gain=0.1, threshold='0.2mJy',\n",
        "      gridder='standard',\n",
        "      interactive=True,\n",
        "      imsize=[1800,1800], cell=['2.0arcsec','2.0arcsec'],\n",
        "      stokes='I',\n",
        "      weighting='briggs',robust=0.5,\n",
        "      pbcor=False,\n",
        "      savemodel='modelcolumn')"
      ],
      "metadata": {
        "id": "uRWLNktPYCz_"
      },
      "execution_count": null,
      "outputs": []
    },
    {
      "cell_type": "code",
      "source": [
        "ms46554=\"scienceData.CRACOTest_B.SB46554.CRACOTest_B.beam14_averaged_cal.leakage.ms\"\n",
        "tclean(vis=ms46554, imagename='16DEC2022',\n",
        "      field='',spw='',\n",
        "      specmode='mfs',\n",
        "      niter=20000,\n",
        "      gain=0.1, threshold='0.2mJy',\n",
        "      gridder='standard',\n",
        "      interactive=True,\n",
        "      imsize=[1800,1800], cell=['2.0arcsec','2.0arcsec'],\n",
        "      stokes='I',\n",
        "      weighting='briggs',robust=0.5,\n",
        "      pbcor=False,\n",
        "      savemodel='modelcolumn')"
      ],
      "metadata": {
        "id": "v8jwWphZYC5s"
      },
      "execution_count": null,
      "outputs": []
    },
    {
      "cell_type": "code",
      "source": [
        "ms48611=\"scienceData.CRACO_ULP2.SB48611.CRACO_ULP2.beam14_averaged_cal.leakage.ms\"\n",
        "tclean(vis=ms48611, imagename='25FEB2023',\n",
        "      field='',spw='',\n",
        "      specmode='mfs',\n",
        "      niter=20000,\n",
        "      gain=0.1, threshold='0.2mJy',\n",
        "      gridder='standard',\n",
        "      interactive=True,\n",
        "      imsize=[1800,1800], cell=['2.0arcsec','2.0arcsec'],\n",
        "      stokes='I',\n",
        "      weighting='briggs',robust=0.5,\n",
        "      pbcor=False,\n",
        "      savemodel='modelcolumn')"
      ],
      "metadata": {
        "id": "w9yB6tAmYC-7"
      },
      "execution_count": null,
      "outputs": []
    }
  ]
}