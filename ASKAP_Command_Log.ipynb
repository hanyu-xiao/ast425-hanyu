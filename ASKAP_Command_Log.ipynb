{
  "nbformat": 4,
  "nbformat_minor": 0,
  "metadata": {
    "colab": {
      "provenance": [],
      "collapsed_sections": [
        "YMBE0EN4-UmM"
      ],
      "authorship_tag": "ABX9TyNAEfX1nkbviXa9ahEJPssw"
    },
    "kernelspec": {
      "name": "python3",
      "display_name": "Python 3"
    },
    "language_info": {
      "name": "python"
    }
  },
  "cells": [
    {
      "cell_type": "markdown",
      "source": [
        "- target: wide field, beam 14 should include GRB221009a, verify with catalogues\n",
        "- observation log: multiple, see ASKAP folder"
      ],
      "metadata": {
        "id": "G5sWexI1N-3Q"
      }
    },
    {
      "cell_type": "markdown",
      "source": [
        "# 0. Defining Variables"
      ],
      "metadata": {
        "id": "pRrsytd-7qlJ"
      }
    },
    {
      "cell_type": "code",
      "source": [
        "# extract measurement set\n",
        "homeDir = 'Volumes/G-RAID_Thunderbold_4/xiao_data/ASKAP'\n",
        "\n",
        "tar -xvf scienceData.AS113_67.SB44857.AS113_67.beam14_averaged_cal.leakage.ms.tar\n",
        "tar -xvf scienceData.AS113_68.SB44918.AS113_68.beam14_averaged_cal.leakage.ms.tar\n",
        "tar -xvf scienceData.AS113_69.SB45060.AS113_69.beam14_averaged_cal.leakage.ms.tar\n",
        "tar -xvf scienceData.AS113_70.SB45086.AS113_70.beam14_averaged_cal.leakage.ms.tar\n",
        "tar -xvf scienceData.AS113_71.SB45416.AS113_71.beam14_averaged_cal.leakage.ms.tar\n",
        "tar -xvf scienceData.CRACOTest_A.SB46350.CRACOTest_A.beam14_averaged_cal.leakage.ms.tar\n",
        "tar -xvf scienceData.CRACOTest_A.SB46419.CRACOTest_A.beam14_averaged_cal.leakage.ms.tar\n",
        "tar -xvf scienceData.CRACOTest_B.SB46492.CRACOTest_B.beam14_averaged_cal.leakage.ms.tar\n",
        "tar -xvf scienceData.CRACOTest_B.SB46554.CRACOTest_B.beam14_averaged_cal.leakage.ms.tar\n",
        "tar -xvf scienceData.CRACO_ULP2.SB48611.CRACO_ULP2.beam14_averaged_cal.leakage.ms.tar"
      ],
      "metadata": {
        "id": "p6ZKVcWtW_Q6"
      },
      "execution_count": null,
      "outputs": []
    },
    {
      "cell_type": "code",
      "source": [
        "# make subdirectories for each observation\n",
        "mkdir 44857 &&\n",
        "mkdir 44918 &&\n",
        "mkdir 45060 &&\n",
        "mkdir 45086 &&\n",
        "mkdir 45416 &&\n",
        "mkdir 46350 &&\n",
        "mkdir 46419 &&\n",
        "mkdir 46492 &&\n",
        "mkdir 46554 &&\n",
        "mkdir 48511"
      ],
      "metadata": {
        "id": "ojGA7jTQeod1"
      },
      "execution_count": null,
      "outputs": []
    },
    {
      "cell_type": "code",
      "source": [
        "# move files into subdirectories\n",
        "mv scienceData.AS113_67.SB44857.AS113_67.beam14_averaged_cal.leakage.ms 44857 &&\n",
        "mv scienceData.AS113_67.SB44857.AS113_67.beam14_averaged_cal.leakage.ms.tar 44857 &&\n",
        "\n",
        "mv scienceData.AS113_68.SB44918.AS113_68.beam14_averaged_cal.leakage.ms 44918 &&\n",
        "mv scienceData.AS113_68.SB44918.AS113_68.beam14_averaged_cal.leakage.ms.tar 44918 &&\n",
        "\n",
        "mv scienceData.AS113_69.SB45060.AS113_69.beam14_averaged_cal.leakage.ms 45060 &&\n",
        "mv scienceData.AS113_69.SB45060.AS113_69.beam14_averaged_cal.leakage.ms.tar 45060 &&\n",
        "\n",
        "mv scienceData.AS113_70.SB45086.AS113_70.beam14_averaged_cal.leakage.ms 45086 &&\n",
        "mv scienceData.AS113_70.SB45086.AS113_70.beam14_averaged_cal.leakage.ms.tar 45086 &&\n",
        "\n",
        "mv scienceData.AS113_71.SB45416.AS113_71.beam14_averaged_cal.leakage.ms 45416 &&\n",
        "mv scienceData.AS113_71.SB45416.AS113_71.beam14_averaged_cal.leakage.ms.tar 45416 &&\n",
        "\n",
        "mv scienceData.CRACOTest_A.SB46350.CRACOTest_A.beam14_averaged_cal.leakage.ms 46350 &&\n",
        "mv scienceData.CRACOTest_A.SB46350.CRACOTest_A.beam14_averaged_cal.leakage.ms.tar 46350 &&\n",
        "\n",
        "mv scienceData.CRACOTest_A.SB46419.CRACOTest_A.beam14_averaged_cal.leakage.ms 46419 &&\n",
        "mv scienceData.CRACOTest_A.SB46419.CRACOTest_A.beam14_averaged_cal.leakage.ms.tar 46419 &&\n",
        "\n",
        "mv scienceData.CRACOTest_B.SB46492.CRACOTest_B.beam14_averaged_cal.leakage.ms 46492 &&\n",
        "mv scienceData.CRACOTest_B.SB46492.CRACOTest_B.beam14_averaged_cal.leakage.ms.tar 46492 &&\n",
        "\n",
        "mv scienceData.CRACOTest_B.SB46554.CRACOTest_B.beam14_averaged_cal.leakage.ms 46554 &&\n",
        "mv scienceData.CRACOTest_B.SB46554.CRACOTest_B.beam14_averaged_cal.leakage.ms.tar 46554 &&\n",
        "\n",
        "mv scienceData.CRACO_ULP2.SB48611.CRACO_ULP2.beam14_averaged_cal.leakage.ms 48511 &&\n",
        "mv scienceData.CRACO_ULP2.SB48611.CRACO_ULP2.beam14_averaged_cal.leakage.ms.tar 48511"
      ],
      "metadata": {
        "id": "mXwsmUIjg0iB"
      },
      "execution_count": null,
      "outputs": []
    },
    {
      "cell_type": "markdown",
      "source": [
        "# Initial data lookover\n",
        "- https://casadocs.readthedocs.io/en/latest/notebooks/data_examination.html"
      ],
      "metadata": {
        "id": "YMBE0EN4-UmM"
      }
    },
    {
      "cell_type": "code",
      "source": [
        "# open CASA in working directory\n",
        "casa\n",
        "\n",
        "# list individual scans including data, date, scans, sources (fields), antenna locations, etc\n",
        "# IntegrationTime is total duration\n",
        "# identify an antenna close to the centre with no issues for calibration from the txt file\n",
        "metadata = listobs(vis=filename, listfile=filename[:-2]+'txt', overwrite=True)\n"
      ],
      "metadata": {
        "id": "gxyauh8Y-Ur8"
      },
      "execution_count": null,
      "outputs": []
    },
    {
      "cell_type": "code",
      "source": [
        "# @title plot calibrated amplitude vs baseline, verifying data\n",
        "plotms(vis=filename, xaxis='uvwave', yaxis='amp', ydatacolumn='data', field='0',# avgtime=avgTime/2, correlation='RR',\n",
        "        overwrite=True)\n"
      ],
      "metadata": {
        "id": "iHW2ZJEo3ZI6"
      },
      "execution_count": null,
      "outputs": []
    },
    {
      "cell_type": "markdown",
      "source": [
        "# Imaging"
      ],
      "metadata": {
        "id": "cHqmprO33UfP"
      }
    },
    {
      "cell_type": "code",
      "source": [
        "# @title image and deconvolute the calibrated target\n",
        "\n",
        "# tclean() only removes the contributions of the dirty beam\n",
        "# noise part of the true sky image (residuals) are retained\n",
        "# effective cleaning occurs at 3-5 image pixels per resolution pixel (12\"/2.5\"~5)\n",
        "# target is ~ 9' ~ 540\" ~ 216 image pixels\n",
        "# efficient if the image dimensions are a multiple of 30\n",
        "# tclean() applies an internal 1.2 multipler on image dimension\n",
        "# see https://casaguides.nrao.edu/index.php/VLA_Continuum_Tutorial_3C391-CASA5.4.0#Multi-scale_Mosaic_Clean for tutorial on tclean"
      ],
      "metadata": {
        "id": "YWNSlaSn-grH"
      },
      "execution_count": null,
      "outputs": []
    },
    {
      "cell_type": "code",
      "source": [
        "ms44857=\"scienceData.AS113_67.SB44857.AS113_67.beam14_averaged_cal.leakage.ms\"\n",
        "tclean(vis=ms44857,imagename='15OCT2022',\n",
        "      field='',spw='',\n",
        "      specmode='mfs',\n",
        "      niter=20000*10, # or 100, since we have multiple sources within the beam\n",
        "      gain=0.1, threshold='0.2mJy', # change threshold to 5 times stdev (0.2 mJy, stdev 42 μJy(/beam))\n",
        "      gridder='standard',\n",
        "      # deconvolver='multiscale', # remove\n",
        "      # scales=[0, 6, 18, 54], smallscalebias=0.9, # only relevant for extended sources\n",
        "      interactive=True,\n",
        "      imsize=[1800,1800], cell=['2.0arcsec','2.0arcsec'], # imsize and cell should be such that 1 pixel in the final image corresponds to 1 pixel in the DS9 images\n",
        "      # imsize is number of pixels, pixel*cellsize = angular size of picture\n",
        "      # CDELT1 (ra), CDELT2 (dec) in image header are degrees per pixel, correspond to ~2\" per pixel\n",
        "      stokes='IQUV', # keep remaining parameters\n",
        "      weighting='briggs',robust=0.5,\n",
        "      pbcor=False,\n",
        "      savemodel='modelcolumn')"
      ],
      "metadata": {
        "id": "j0v2QjyZb_Z-"
      },
      "execution_count": null,
      "outputs": []
    },
    {
      "cell_type": "code",
      "source": [
        "ms44918=\"scienceData.AS113_68.SB44918.AS113_68.beam14_averaged_cal.leakage.ms\"\n",
        "tclean(vis=ms44918,imagename='17OCT2022',\n",
        "      field='',spw='',\n",
        "      specmode='mfs',\n",
        "      niter=20000,\n",
        "      gain=0.1, threshold='0.2mJy',\n",
        "      gridder='standard',\n",
        "      interactive=True,\n",
        "      imsize=[1800,1800], cell=['2.0arcsec','2.0arcsec'],\n",
        "      stokes='IQUV',\n",
        "      weighting='briggs',robust=0.5,\n",
        "      pbcor=False,\n",
        "      savemodel='modelcolumn')"
      ],
      "metadata": {
        "id": "YypNXejLTvsU"
      },
      "execution_count": null,
      "outputs": []
    },
    {
      "cell_type": "code",
      "source": [
        "ms45060=\"scienceData.AS113_69.SB45060.AS113_69.beam14_averaged_cal.leakage.ms\"\n",
        "tclean(vis=ms45060,imagename='22OCT2022',\n",
        "      field='',spw='',\n",
        "      specmode='mfs',\n",
        "      niter=20000,\n",
        "      gain=0.1, threshold='0.2mJy',\n",
        "      gridder='standard',\n",
        "      interactive=True,\n",
        "      imsize=[1800,1800], cell=['2.0arcsec','2.0arcsec'],\n",
        "      stokes='I',\n",
        "      weighting='briggs',robust=0.5,\n",
        "      pbcor=False,\n",
        "      savemodel='modelcolumn')"
      ],
      "metadata": {
        "id": "DB2voIlLYCM9"
      },
      "execution_count": null,
      "outputs": []
    },
    {
      "cell_type": "code",
      "source": [
        "ms45086=\"scienceData.AS113_70.SB45086.AS113_70.beam14_averaged_cal.leakage.ms\"\n",
        "tclean(vis=ms45086, imagename='23OCT2022',\n",
        "      field='',spw='',\n",
        "      specmode='mfs',\n",
        "      niter=20000,\n",
        "      gain=0.1, threshold='0.2mJy',\n",
        "      gridder='standard',\n",
        "      interactive=True,\n",
        "      imsize=[1800,1800], cell=['2.0arcsec','2.0arcsec'],\n",
        "      stokes='I',\n",
        "      weighting='briggs',robust=0.5,\n",
        "      pbcor=False,\n",
        "      savemodel='modelcolumn')"
      ],
      "metadata": {
        "id": "g0yXjh0yYCZu"
      },
      "execution_count": null,
      "outputs": []
    },
    {
      "cell_type": "code",
      "source": [
        "ms45416=\"scienceData.AS113_71.SB45416.AS113_71.beam14_averaged_cal.leakage.ms\"\n",
        "tclean(vis=ms45416, imagename='05NOV2022',\n",
        "      field='',spw='',\n",
        "      specmode='mfs',\n",
        "      niter=20000,\n",
        "      gain=0.1, threshold='0.2mJy',\n",
        "      gridder='standard',\n",
        "      interactive=True,\n",
        "      imsize=[1800,1800], cell=['2.0arcsec','2.0arcsec'],\n",
        "      stokes='I',\n",
        "      weighting='briggs',robust=0.5,\n",
        "      pbcor=False,\n",
        "      savemodel='modelcolumn')"
      ],
      "metadata": {
        "id": "vB3JdXsSYCh4"
      },
      "execution_count": null,
      "outputs": []
    },
    {
      "cell_type": "code",
      "source": [
        "ms46350=\"scienceData.CRACOTest_A.SB46350.CRACOTest_A.beam14_averaged_cal.leakage.ms\"\n",
        "tclean(vis=ms46350, imagename='13DEC2022',\n",
        "      field='',spw='',\n",
        "      specmode='mfs',\n",
        "      niter=20000,\n",
        "      gain=0.1, threshold='0.2mJy',\n",
        "      gridder='standard',\n",
        "      interactive=True,\n",
        "      imsize=[1800,1800], cell=['2.0arcsec','2.0arcsec'],\n",
        "      stokes='I',\n",
        "      weighting='briggs',robust=0.5,\n",
        "      pbcor=False,\n",
        "      savemodel='modelcolumn')"
      ],
      "metadata": {
        "id": "AJke_h3aYCoi"
      },
      "execution_count": null,
      "outputs": []
    },
    {
      "cell_type": "code",
      "source": [
        "ms46419=\"scienceData.CRACOTest_A.SB46419.CRACOTest_A.beam14_averaged_cal.leakage.ms\"\n",
        "tclean(vis=ms46419, imagename='14DEC2022',\n",
        "      field='',spw='',\n",
        "      specmode='mfs',\n",
        "      niter=20000,\n",
        "      gain=0.1, threshold='0.2mJy',\n",
        "      gridder='standard',\n",
        "      interactive=True,\n",
        "      imsize=[1800,1800], cell=['2.0arcsec','2.0arcsec'],\n",
        "      stokes='I',\n",
        "      weighting='briggs',robust=0.5,\n",
        "      pbcor=False,\n",
        "      savemodel='modelcolumn')"
      ],
      "metadata": {
        "id": "H0BdtPE6YCuD"
      },
      "execution_count": null,
      "outputs": []
    },
    {
      "cell_type": "code",
      "source": [
        "ms46492=\"scienceData.CRACOTest_B.SB46492.CRACOTest_B.beam14_averaged_cal.leakage.ms\"\n",
        "tclean(vis=ms46492, imagename='15DEC2022',\n",
        "      field='',spw='',\n",
        "      specmode='mfs',\n",
        "      niter=20000,\n",
        "      gain=0.1, threshold='0.2mJy',\n",
        "      gridder='standard',\n",
        "      interactive=True,\n",
        "      imsize=[1800,1800], cell=['2.0arcsec','2.0arcsec'],\n",
        "      stokes='I',\n",
        "      weighting='briggs',robust=0.5,\n",
        "      pbcor=False,\n",
        "      savemodel='modelcolumn')"
      ],
      "metadata": {
        "id": "uRWLNktPYCz_"
      },
      "execution_count": null,
      "outputs": []
    },
    {
      "cell_type": "code",
      "source": [
        "ms46554=\"scienceData.CRACOTest_B.SB46554.CRACOTest_B.beam14_averaged_cal.leakage.ms\"\n",
        "tclean(vis=ms46554, imagename='16DEC2022',\n",
        "      field='',spw='',\n",
        "      specmode='mfs',\n",
        "      niter=20000,\n",
        "      gain=0.1, threshold='0.2mJy',\n",
        "      gridder='standard',\n",
        "      interactive=True,\n",
        "      imsize=[1800,1800], cell=['2.0arcsec','2.0arcsec'],\n",
        "      stokes='I',\n",
        "      weighting='briggs',robust=0.5,\n",
        "      pbcor=False,\n",
        "      savemodel='modelcolumn')"
      ],
      "metadata": {
        "id": "v8jwWphZYC5s"
      },
      "execution_count": null,
      "outputs": []
    },
    {
      "cell_type": "code",
      "source": [
        "ms48611=\"scienceData.CRACO_ULP2.SB48611.CRACO_ULP2.beam14_averaged_cal.leakage.ms\"\n",
        "tclean(vis=ms48611, imagename='25FEB2023',\n",
        "      field='',spw='',\n",
        "      specmode='mfs',\n",
        "      niter=20000,\n",
        "      gain=0.1, threshold='0.2mJy',\n",
        "      gridder='standard',\n",
        "      interactive=True,\n",
        "      imsize=[1800,1800], cell=['2.0arcsec','2.0arcsec'],\n",
        "      stokes='I',\n",
        "      weighting='briggs',robust=0.5,\n",
        "      pbcor=False,\n",
        "      savemodel='modelcolumn')"
      ],
      "metadata": {
        "id": "w9yB6tAmYC-7"
      },
      "execution_count": null,
      "outputs": []
    },
    {
      "cell_type": "code",
      "source": [
        "# @title view the target images\n",
        "# comprised of clean components convolved with a restoring beam and added to the remaining residuals\n",
        "viewer('15OCT2022'+'.image') # IQUV correction\n",
        "viewer('17OCT2022'+'.image') # IQUV correction\n",
        "viewer('22OCT2022'+'.image')\n",
        "viewer('23OCT2022'+'.image')\n",
        "viewer('05NOV2022'+'.image')\n",
        "viewer('13DEC2022'+'.image')\n",
        "viewer('14DEC2022'+'.image')\n",
        "viewer('15DEC2022'+'.image')\n",
        "viewer('16DEC2022'+'.image')\n",
        "viewer('25FEB2023'+'.image')"
      ],
      "metadata": {
        "id": "POm1zTiA_ZJM"
      },
      "execution_count": null,
      "outputs": []
    },
    {
      "cell_type": "markdown",
      "source": [
        "# Bugs & Other\n",
        "-\n"
      ],
      "metadata": {
        "id": "Sf6bjSm9_1R6"
      }
    }
  ]
}