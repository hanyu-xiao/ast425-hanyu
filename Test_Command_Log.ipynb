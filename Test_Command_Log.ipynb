{
  "nbformat": 4,
  "nbformat_minor": 0,
  "metadata": {
    "colab": {
      "provenance": [],
      "collapsed_sections": [
        "jhh7_vFs-G5E"
      ]
    },
    "kernelspec": {
      "name": "python3",
      "display_name": "Python 3"
    },
    "language_info": {
      "name": "python"
    }
  },
  "cells": [
    {
      "cell_type": "markdown",
      "source": [
        "- target:\n",
        "- observation log:\n",
        "- other notes\n",
        "- check timerange in example"
      ],
      "metadata": {
        "id": "G5sWexI1N-3Q"
      }
    },
    {
      "cell_type": "markdown",
      "source": [
        "# 0. Defining Variables"
      ],
      "metadata": {
        "id": "pRrsytd-7qlJ"
      }
    },
    {
      "cell_type": "code",
      "execution_count": null,
      "metadata": {
        "id": "Fpwn5C6g62To"
      },
      "outputs": [],
      "source": [
        "# filing\n",
        "filename = '43_039_12NOV2022_GSB.LTA_RRLL.RRLLFITS.ms'\n",
        "homeDir = 'Volumes/G-RAID_Thunderbold_4/xiao_data/GMRT'\n",
        "workDir = '43_039_12NOV2022_GSB'\n",
        "plotDir = 'plots/'\n",
        "calDir = 'calibration/' + workDir + '.'\n",
        "filenameCal = workDir + '_calibrated.ms'\n",
        "\n",
        "# fields\n",
        "ampCal = '3C286'  \t\t# visibility calibrator\n",
        "gainCal = 'J1925+2106' \t  # (unsure) near target gain calibrator\n",
        "polCal = ''   \t# polarization calibrator\n",
        "target = 'GRB221009A'\n",
        "\n",
        "# calibration\n",
        "antposTable = calDir + 'antpos'\n",
        "phaseTableAll = calDir + 'G0all'\n",
        "phaseTable = calDir + 'G0' # only uses the bandpass calibrator\n",
        "delayTable = calDir + 'K0'\n",
        "bandpassTable = calDir + 'B0'\n",
        "gainTable = calDir + 'G1'\n",
        "crossDelayTable = calDir + 'Kcross'\n",
        "leakageTable0 = calDir + 'D1'\n",
        "leakageTable = calDir + 'D2'\n",
        "polPhaseTable = calDir + 'X1'\n",
        "fluxTable = calDir + 'fluxscale1'\n",
        "\n",
        "# msmd.open(filename) # https://casa.nrao.edu/doxygen/classcasacore_1_1MSMetaData.html\n",
        "# antennas = msmd.antennanames()\n",
        "refAnt = 'C09'\n",
        "badAntenna = 'C03,E06'\n",
        "# goodAntenna = [ant for ant in antennas if ant not in badAntenna.split(',')] # not needed\n",
        "model = 'calibratorName_bandLetter.im'\n",
        "channels = 256\n",
        "spwMid = '0:'+str(int(channels*0.45))+'~'+str(int(channels*0.55))\n",
        "spwWide = '0:'+str(int(channels*0.08))+'~'+str(int(channels*0.92))\n",
        "timeRange = '59895.26921727792~59895.27853796347' # time range of ampCal scan\n",
        "sampleTime = '8.05' # integration time for individual scans\n",
        "from numpy import log,pi,radians,cos,sin\n",
        "# i0 = 15.10931396 # Jy, Stokes I in channel 0 of spw 0\n",
        "# refFreq0 = '4536.0MHz' # frequency of channel 0 of spw 0, from listobs()\n",
        "# c0 = 0.112 # fractional polarization\n",
        "# d0 = radians(33) # polarization angle in degrees to radians\n",
        "# i1 = 7.53174 # Jy, lowest intensity returned by setjy()\n",
        "# refFreq1 = '1408.935Mhz' # highest frequency returned by setjy()\n",
        "# baseline0 = 'ea01&ea02'\n",
        "\n",
        "# plotting, can save in a plot directory\n",
        "antennaLayoutPlot = plotDir + 'antenna_layout.png'\n",
        "ampTimePlot = plotDir + 'amplitude_vs_time_all.png'\n",
        "datastream2 = plotDir + 'datastream_ea01_antenna2.png'\n",
        "gainphaseRLTimeAllPlot = plotDir + 'gain_phase_RL_vs_time_all.png'\n",
        "gainphaseRLTimePlot = plotDir + 'gain_phase_RL_vs_time.png'\n",
        "delayAntennaPlot = plotDir + 'delay_vs_antenna_ea21.png'\n",
        "bandpassGainAmpChannelPlot = plotDir + 'bandpass_gain_amplitude_vs_channel.png'\n",
        "bandpassGainPhaseChannelPlot = plotDir + 'bandpass_gain_phase_vs_channel.png'\n",
        "gainPhaseVsTimePlot = plotDir + 'gain_phase_vs_time.png'\n",
        "gainAmpVsTimePlot = plotDir + 'gain_amplitude_vs_time.png'\n",
        "complexPolarizationRatioPlot = plotDir + 'complex_polarization_ratio.png'\n",
        "modelRRPolAmpVsChannelPlot = plotDir + 'model_RR_pol_amplitude_vs_channel.png'\n",
        "modelRLAmpVsChannelPlot = plotDir + 'model_RL_pol_amplitude_vs_channel.png'\n",
        "modelRLPhaseVsChannelPlot = plotDir + 'model_RL_pol_phase_vs_channel.png'\n",
        "crossDelayTablePlot = plotDir + 'cross_delay_vs_antenna.png'\n",
        "leakageAmpVsChannelPlot = plotDir + 'leakage_amplitude_vs_channel.png'\n",
        "leakagePhaseVsChannelPlot = plotDir + 'leakage_phase_vs_channel.png'\n",
        "leakageAmpVsAntennaPlot0 = plotDir + 'leakage_phase_vs_antenna_prelim.png'\n",
        "leakageAmpVsAntennaPlot = plotDir + 'leakage_phase_vs_antenna.png'\n",
        "polGainPhaseVsChannelPlot = plotDir + 'pol_gain_phase_vs_channel.png'\n",
        "ampCalCorrectedAmpVsChannelPlot = plotDir + 'amplitude_calibrator_corrected_amplitude_vs_channel.png'\n",
        "ampCalCorrectedPhaseVsChannelPlot = plotDir + 'amplitude_calibrator_corrected_phase_vs_channel.png'\n",
        "gainCalCorrectedAmpVsChannelPlot = plotDir + 'gain_calibrator_corrected_amplitude_vs_channel.png'\n",
        "gainCalCorrectedPhaseVsChannelPlot = plotDir + 'gain_calibrator_corrected_phase_vs_channel.png'\n",
        "targetCorrectedAmpVsBaselinePlot = plotDir + 'target_corrected_amplitude_vs_baseline.png'\n",
        "cleanImage = 'clean_image'\n",
        "gridr = 6\n",
        "gridc = 5\n",
        "w = gridc * 300\n",
        "h = gridr * 230\n",
        "# avgTime = '3543.349109649658' # compare to prev"
      ]
    },
    {
      "cell_type": "markdown",
      "source": [
        "# 1. Obtaining data"
      ],
      "metadata": {
        "id": "jhh7_vFs-G5E"
      }
    },
    {
      "cell_type": "code",
      "source": [
        "# navigate to root directory\n",
        "cd /Volumes/G-RAID_Thunderbold_4/xiao_data\n",
        "\n",
        "# make sub directory for working in\n",
        "mkdir workDir\n",
        "\n",
        "# navigate to work directory\n",
        "cd workDir\n",
        "\n",
        "# make sub directory for plots\n",
        "mkdir plots\n",
        "\n",
        "# make sub directory for calibration tables\n",
        "mkdir calibration"
      ],
      "metadata": {
        "id": "LekmFc1K-Gtz"
      },
      "execution_count": null,
      "outputs": []
    },
    {
      "cell_type": "code",
      "source": [
        "# to handle FTP files\n",
        "\n",
        "# switch to bash shell within work directory\n",
        "bash\n",
        "\n",
        "# wget downloads files from the web\n",
        "# -c: continue download where left off\n",
        "# --progress=bar:force --show-progress: show progress bar\n",
        "# --tries=20 --waitretry=10: try up to 20 times if an error occurs with 10 s between tries\n",
        "wget -c --progress=bar:force --show-progress --tries=20 --waitretry=10 ftp://naps.ncra.tifr.res.in/* --ftp-user DLFGOEAK --ftp-password DLFGOEAK\n",
        "# retry command after completion, it should recognize that all files are already downloaded"
      ],
      "metadata": {
        "id": "0-qs0Q0mAOUp"
      },
      "execution_count": null,
      "outputs": []
    },
    {
      "cell_type": "code",
      "source": [
        "# to handle a tarzip in the download folder\n",
        "\n",
        "# move file from download folder into the working directory\n",
        "mv ~/Downloads/filename.zip ./workDir\n",
        "\n",
        "# first term specifies command/program to run\n",
        "# - specifies additional options\n",
        "# x specifies extract the following\n",
        "# v specifies verbose, give details while executing\n",
        "# f specifies file, will not work without\n",
        "tar -xvf filename.zip"
      ],
      "metadata": {
        "id": "MiZMiHP2DAw9"
      },
      "execution_count": null,
      "outputs": []
    },
    {
      "cell_type": "markdown",
      "source": [
        "# 2. Initial data lookover\n",
        "- https://casadocs.readthedocs.io/en/latest/notebooks/data_examination.html"
      ],
      "metadata": {
        "id": "YMBE0EN4-UmM"
      }
    },
    {
      "cell_type": "code",
      "source": [
        "# open CASA in working directory\n",
        "casa\n",
        "\n",
        "# list individual scans including data, date, scans, sources (fields), antenna locations, etc\n",
        "# IntegrationTime is total duration\n",
        "# identify an antenna close to the centre with no issues for calibration\n",
        "listobs(vis=filename, listfile=filename[:-2]+'txt')\n",
        "\n",
        "# examine the observing conditions by opening the observer log .obslog\n",
        "# VLA observer logs can be downloaded from http://www.vla.nrao.edu/cgi-bin/oplogs.cgi\n",
        "# enter the date range of interest and click Show Logs\n",
        "\n",
        "# get a sense of the array by plotting\n",
        "plotants(vis=filename, figfile=antennaLayoutPlot, exclude=badAntenna)\n",
        "clearstat() # This removes any existing table locks generated by plotants()\n"
      ],
      "metadata": {
        "id": "gxyauh8Y-Ur8"
      },
      "execution_count": null,
      "outputs": []
    },
    {
      "cell_type": "markdown",
      "source": [
        "# 3. Examine and edit data"
      ],
      "metadata": {
        "id": "owceuGsDJSdX"
      }
    },
    {
      "cell_type": "code",
      "source": [
        "# @title flag known bad data\n",
        "# generally good to plot data as time and frequency series to look for flags\n",
        "# other options are raw data, model, caltables, calibrated data\n",
        "# flags are stored as a binary column in the measurement set (.ms)\n",
        "# flagbackup makes a separate file of previous flag states, on by default\n",
        "# ms file likely has some flags already included from pre processing\n",
        "\n",
        "# flag the first scan if it is a setup scan\n",
        "# flagbackup=True: saves a copy of existing flags before entering any new flags, up to preference, # true by default\n",
        "# mode='manual': specific data will be selected for editing\n",
        "# scan='1': selects the first scan, must be a string\n",
        "flagdata(vis=filename, flagbackup=True, mode='manual', scan='1')\n",
        "\n",
        "# from the .obslog file (open in text editor)\n",
        "flagdata(vis=filename,flagbackup=True, mode='manual',antenna=badAntenna)\n",
        "\n",
        "# the array needs to settle down when beginning a scan\n",
        "# flag the initial samples at the start of each scan, known as quack flagging\n",
        "# mode='quack' : Quack is another mode in which the same edit will be applied to all scans for all baselines\n",
        "# quackmode='beg' : In this case, data from the start of each scan will be flagged. Other options include flagging data at the end of the scan.\n",
        "# quackinterval=sampleTime : In this data set, the sampling time is sampleTime seconds, so this choice flags the first sample from all scans on all baselines.\n",
        "flagdata(vis=filename,mode='quack',quackinterval=float(sampleTime),quackmode='beg')\n",
        "flagdata()\n"
      ],
      "metadata": {
        "id": "9Ne4K5hPJVt0"
      },
      "execution_count": null,
      "outputs": []
    },
    {
      "cell_type": "code",
      "source": [
        "# @title examine data for other obvious problems\n",
        "\n",
        "# plotms() normalizes amplitude\n",
        "# selectdata=True : One can choose to plot only selected subsets of the data.\n",
        "# correlation='RR,LL' : Plot only the left- and right-handed polarization products. The cross-terms ('RL' and 'LR') will be close to zero for non-polarized sources.\n",
        "# averagedata=True: One can choose to average data points before plotting them.\n",
        "# avgchannel=str(channel) : With this plot, we are mainly interested in the fields vs time. Averaging over all channels in the spectral window makes the plotting faster.\n",
        "# coloraxis='field' : Color-code the plotting symbols by field name/number.\n",
        "clearstat()\n",
        "plotms(vis=filename, selectdata=True, correlation='RR,LL', averagedata=True, avgchannel=str(channels), coloraxis='field', plotfile=ampTimePlot, overwrite=True)\n",
        "\n",
        "FIX # confirm refantenna doesnt drop out\n",
        "# plot all baselines involving antenna ant1\n",
        "# this shows when various antennas drop out, assuming ant1 never does\n",
        "# antennas with missing blocks should not be chosen as the reference calibrator\n",
        "plotms(vis=filename, field='', correlation='', timerange='', antenna='C01', spw='', xaxis='time',\n",
        "       yaxis='antenna2', plotrange=[-1,-1,0,26], coloraxis='field', plotfile=datastream2, overwrite=True)\n"
      ],
      "metadata": {
        "id": "Aa2DQhbRNcFv"
      },
      "execution_count": null,
      "outputs": []
    },
    {
      "cell_type": "markdown",
      "source": [
        "# 4. Calibrate the data"
      ],
      "metadata": {
        "id": "CDAfoeAdNzWr"
      }
    },
    {
      "cell_type": "code",
      "source": [
        "# @title correct antenna positions\n",
        "# see the corrections reported in the logger\n",
        "# Online databse for baseline corrections\n",
        "gencal(vis=filename,caltable=antposTable ,caltype='antpos')\n"
      ],
      "metadata": {
        "id": "sLi_kiMkN477"
      },
      "execution_count": null,
      "outputs": []
    },
    {
      "cell_type": "code",
      "source": [
        "# @title initial flux density scaling\n",
        "\n",
        "# determine antenna gains by comparing observed flux density of a calibrator to its known flux density\n",
        "# find all the available calibrator models with setjy\n",
        "# setjy() sets the model column, with default amp of 1 and phase of 0\n",
        "setjy(vis=filename, listmodels=True)\n",
        "\n",
        "# use the C band VLA standard model for 3C286\n",
        "# setjy should output IQUV flux density, then I flux density for each channel\n",
        "# setjy returns a dict of reference flux density, usually not needed\n",
        "# field=ampCal: specify the flux density calibrator\n",
        "# standard='Perley-Butler 2017': use the most recent flux density scale\n",
        "# model=model: compensate for slight resolution effects (deviations from point source model)\n",
        "# usescratch=False: ASA saves the model information and calculates individual model visibilities on-the-fly when needed to save disk space\n",
        "# scalebychan=True: let setjy determine a flux density value per channel rather than one value for the entire spectral window\n",
        "# spw=' ': we have isolated spectral window 0, thus no need to specify spw\n",
        "setjy(vis=filename,field=ampCal,standard='Perley-Butler 2017', model=model,usescratch=False,scalebychan=True,spw='')\n"
      ],
      "metadata": {
        "id": "aVPocnXOOWcg"
      },
      "execution_count": null,
      "outputs": []
    },
    {
      "cell_type": "code",
      "source": [
        "# @title initial phase calibration\n",
        "\n",
        "# solve for phase variations with time to prevent decorrelation when vector averaging for the final bandpass solution, use all calibrator fields\n",
        "# gaincal() compares the data column to model column and determines the solution that transforms data to model\n",
        "# caltable=phaseTable: gain solutions stored here\n",
        "# field=ampCal,gainCal,polCal: specify the calibrators\n",
        "# refant=refAnt: reference antenna near the centre of the array\n",
        "# spw=spwMid: chosen subset of the channels from which gain corrections are determined, should be the central 10% of the channels in the band\n",
        "# gaintype='G': compute the complex gain solutions, one per antenna per spw per polarization per solution interval, default V stokes is zero\n",
        "# calmode='p': solve for only the phase portion of the gain.\n",
        "# solint='int': solution interval, 'int' refers to a single integration time (sampleTime)\n",
        "# minsnr=5: restrict the solutions to be at relatively high signal-to-noise ratios\n",
        "# gaintable=[antposTable]: apply antenna position corrections\n",
        "gaincal(vis=filename, caltable=phaseTableAll, field=','.join((ampCal,gainCal,polCal)), refant=refAnt, spw=spwMid, gaintype='G', calmode='p', solint='int', minsnr=5)#, gaintable=[antposTable])\n",
        "\n",
        "# iterate through each antenna, click the green arrows\n",
        "plotms(vis=phaseTableAll, xaxis='time', yaxis='phase', coloraxis='corr', iteraxis='antenna', plotrange=[-1,-1,-180,180],\n",
        "       gridrows=gridr, gridcols=gridc, width=w, height=h, exprange='all', overwrite=True, plotfile=gainphaseRLTimeAllPlot)\n",
        "\n",
        "# flag antenna ea05 for displaying phase jumps\n",
        "flagdata(vis=filename, flagbackup=True, mode='manual', antenna='ea05')\n",
        "\n",
        "# obtain calibration table used for solving bandpass solution\n",
        "gaincal(vis=filename, caltable=phaseTable, field=ampCal, refant=refAnt , spw=spwMid, calmode='p', solint='int', minsnr=5, gaintable=[antposTable])\n",
        "\n",
        "# (O) plot R,L for the first block of data\n",
        "plotms(vis=phaseTable, xaxis='time', yaxis='phase', coloraxis='corr', field=ampCal, iteraxis='antenna', plotrange=[-1,-1,-180,180], timerange=timeRange,\n",
        "       gridrows=gridr, gridcols=gridc, width=w, height=h, exprange='all', overwrite=True, plotfile=gainphaseRLTimePlot)\n"
      ],
      "metadata": {
        "id": "8G7t81vSPxug"
      },
      "execution_count": null,
      "outputs": []
    },
    {
      "cell_type": "code",
      "source": [
        "# @title delay calibration\n",
        "\n",
        "# solve for relative delays of each antenna to a reference antenna\n",
        "# field=ampCal : For the bandpass calibrator\n",
        "# refant=refAnt : Delays will be relative to this antenna, make sure it is there!\n",
        "# spw=spwWide : Widest possible frequency range in the spw, avoiding edge channels because they have lower sensitivity\n",
        "# gaintype='K' : Compute K (delay) solutions, one per antenna per spw per polarization per solution interval\n",
        "# solint='inf',combine='scan' : Only need one solution averaged over all times and scans. # solint='inf ' sets the solution interval to 'infinite' but respects scan boundaries\n",
        "# combine='scan' combines data across scan boundaries\n",
        "# minsnr=5 : Restrict the solutions to be at relatively high signal-to-noise ratios\n",
        "# gaintable=[antposTable,phaseTable] : Use the antpos and G0 tables\n",
        "gaincal(vis=filename, caltable=delayTable, field=ampCal, refant=refAnt, spw=spwWide, gaintype='K', solint='inf', combine='scan', minsnr=5, gaintable=[antposTable,phaseTable])\n",
        "\n",
        "# plot solutions in nanoseconds as a function of antenna\n",
        "plotms(vis=delayTable, xaxis='antenna1', yaxis='delay', coloraxis='baseline', plotfile=delayAntennaPlot)\n"
      ],
      "metadata": {
        "id": "VDvAWXIhTkA2"
      },
      "execution_count": null,
      "outputs": []
    },
    {
      "cell_type": "code",
      "source": [
        "# @title bandpass calibration\n",
        "\n",
        "# correct for the complex bandpass\n",
        "# all VLA data is in spectral line mode, requiring a bandpass solution to account for gain variations with frequency\n",
        "# sensitivity is usually less on the edges of the band due to common receiver engineering\n",
        "# sensitivity fluctuations across band vary by individual receivers\n",
        "# bandpass solution should be continuous from physical principles\n",
        "\n",
        "# plot RR correlated data to motivate a bandpass solutions\n",
        "# visibility data amplitude is ideally constant with frequency\n",
        "# variations in amplitude with frequency reflect different antenna bandpasses\n",
        "# plotms(vis=filename, x-axis='chan', y-axis='amp', field=ampCal, antenna='ea01', correlation='RR', plotrange=[-10,70,0,.24], coloraxis='antenna2')\n",
        "\n",
        "# field=ampCal: the amplitude calibrator is suitable as the bandpass calibrator\n",
        "# solint='inf': solution interval, 'inf' combines solutions for all times since the observation contains multiple scans on the bandpass calibrator\n",
        "# combine='scan': averages over all scans, by default derives a bandpass correction for each scan (which may be desirable for high dynamic range spectral lines)\n",
        "# bandtype='B': derives bandpass solution on a channel-by-channel basis, 'BPOLY' alternatively fits an n-th order polynomial\n",
        "# gaintable=[antposTable, phaseTable, delayTable]: calibrates for antenna position, phase gain, delay gain, before computing bandpass\n",
        "bandpass(vis=filename, caltable=bandpassTable, field=ampCal, spw='', refant=refAnt, combine='scan', solint='inf', bandtype='B', gaintable=[antposTable,phaseTable,delayTable])\n",
        "\n",
        "# display bandpass solutions\n",
        "# expect bandpass phases to be constant with frequency due to phase/delay calibration\n",
        "plotms(vis=bandpassTable, field=ampCal, xaxis='chan', yaxis='amp', coloraxis='corr', iteraxis='antenna',\n",
        "       gridrows=gridr, gridcols=gridc, width=w, height=h, exprange='all', overwrite=True, plotfile=bandpassGainAmpChannelPlot)\n",
        "\n",
        "plotms(vis=bandpassTable, field=ampCal, xaxis='chan', yaxis='phase', coloraxis='corr', plotrange=[-1,-1,-180,180], iteraxis='antenna',\n",
        "       gridrows=gridr, gridcols=gridc, width=w, height=h, exprange='all', overwrite=True, plotfile=bandpassGainPhaseChannelPlot)\n"
      ],
      "metadata": {
        "id": "67zJxhMfTzFI"
      },
      "execution_count": null,
      "outputs": []
    },
    {
      "cell_type": "code",
      "source": [
        "# @title gain calibration\n",
        "\n",
        "# correct for the complex amplitude and phase gains\n",
        "# this 2nd round of amplitude/phase calibration includes a source closer to the target to minimise atmospheric effects from differing lines of sight\n",
        "# observe the gain calibrator gainCal\n",
        "# CASA tutorial refers to it as the phase calibrator since on the timescale of hours, we expect phase to change much more than amplitude\n",
        "\n",
        "# first rederive the amplitude and phase gains for the flux density calibrator (ampCal)\n",
        "gaincal(vis=filename, caltable=gainTable, field=ampCal,spw=spwWide, solint='inf', refant=refAnt, gaintype='G',\n",
        "        calmode='ap', solnorm=False, gaintable=[antposTable,delayTable,bandpassTable], interp=['linear','linear','nearest'])\n",
        "\n",
        "# next derive the amplitude and phase gains for the near-target phase calibrator\n",
        "gaincal(vis=filename, caltable=gainTable, field=gainCal, spw=spwWide, solint='inf', refant=refAnt, gaintype='G',\n",
        "        calmode='ap', gaintable=[antposTable,delayTable,bandpassTable], append=True)\n",
        "\n",
        "# repeat for the polarization calibrator polCal\n",
        "gaincal(vis=filename,caltable=gainTable, field=polCal, spw=spwWide, solint='inf', refant=refAnt, gaintype='G',\n",
        "        calmode='ap', gaintable=[antposTable,delayTable,bandpassTable], append=True)\n",
        "\n",
        "# plot the amplitude and phase gain solutions\n",
        "# expect smooth solutions for each antenna with time\n",
        "plotms(vis=gainTable, xaxis='time', yaxis='phase', gridrows=1, gridcols=2, iteraxis='corr', coloraxis='baseline', plotrange=[-1,-1,-180,180], plotfile=gainPhaseVsTimePlot)\n",
        "plotms(vis=gainTable, xaxis='time', yaxis='amp', gridrows=1, gridcols=2, iteraxis='corr', coloraxis='baseline', plotfile=gainAmpVsTimeplot)\n",
        "\n",
        "# plot the complex polarization ratio\n",
        "# this checks that the chosen reference antenna has good phase stability, the phase difference between R and L polarization is stable with time\n",
        "# a few degrees of drift but no phase jumps is acceptable\n",
        "plotms(vis=gainTable, xaxis='time', yaxis='phase', correlation='/', coloraxis='baseline', plotrange=[-1,-1,-180,180], plotfile=complexPolarizationRatioPlot)"
      ],
      "metadata": {
        "id": "heighbGnl_lJ"
      },
      "execution_count": null,
      "outputs": []
    },
    {
      "cell_type": "code",
      "source": [
        "# @title polarization calibration, generating model\n",
        "# without a good polarization calibrator, we are limited by how well we know the polarization of the other calibrators\n",
        "\n",
        "# setjy() calculates Stokes Q and U from reference frequency, Stokes I, polarization fraction, and polarization angle\n",
        "# inspect casa-<timestamp>.log for the previous call to setjy() to find the values of Stokes I\n",
        "# compute the spectral index\n",
        "alpha = log(i1/i0)/log(float(refFreq1[:-3])/float(refFreq0[:-3]))\n",
        "\n",
        "# generate the polarization model\n",
        "# Stokes V has been set to 0, corresponding to no circular polarization\n",
        "setjy(vis=filename, field=ampCal, standard='manual', spw='0', fluxdensity=[i0,0,0,0], spix=[alpha,0],\n",
        "      reffreq=refFreq0, polindex=[c0,0], polangle=[d0,0], scalebychan=True, usescratch=False)\n",
        "\n",
        "# plot model RR amplitude vs channel\n",
        "plotms(vis=filename, field=ampCal, correlation='RR', timerange=timeRange, antenna=baseline0, xaxis='channel', yaxis='amp', ydatacolumn='model',\n",
        "       plotfile=modelRRPolAmpVsChannelPlot, overwrite=True)\n",
        "\n",
        "# plot model RL amplitude vs channel\n",
        "plotms(vis=filename, field=ampCal, correlation='RL', timerange=timeRange, antenna=baseline0, xaxis='channel', yaxis='amp', ydatacolumn='model',\n",
        "       plotfile=modelRLAmpVsChannelPlot, overwrite=True)\n",
        "\n",
        "# plot model RL phase difference vs channel\n",
        "# expect model RL phase difference to be constant with frequency\n",
        "plotms(vis=filename, field=ampCal, correlation='RL', timerange=timeRange, antenna=baseline0, xaxis='channel', yaxis='phase', ydatacolumn='model', plotrange=[-1,-1,-180,180],\n",
        "       plotfile=modelRLPhaseVsChannelPlot, overwrite=True)\n"
      ],
      "metadata": {
        "id": "y84H_r6OniC5"
      },
      "execution_count": null,
      "outputs": []
    },
    {
      "cell_type": "code",
      "source": [
        "# @title polarization calibration, solving for cross hand delays (RL, LR)\n",
        "# subset of delay calibration\n",
        "# RL LR wires into correlator instead of LL RR\n",
        "# polarized calibrators are ideal\n",
        "\n",
        "# calculate cross hand delay calibration table\n",
        "gaincal(vis=filename, caltable=crossDelayTable, field=ampCal, spw=spwWide, gaintype='KCROSS', solint='inf', combine='scan',\n",
        "        refant=refAnt, gaintable=[antposTable, delayTable, bandpassTable, gainTable], gainfield=['','','', ampCal], parang=True)\n",
        "\n",
        "# plot cross hand delay calibration table\n",
        "plotms(vis=crossDelayTable, xaxis='antenna1', yaxis='delay', coloraxis='corr', plotfile=crossDelayTablePlot, overwrite=True)\n"
      ],
      "metadata": {
        "id": "8KPOWekItK1B"
      },
      "execution_count": null,
      "outputs": []
    },
    {
      "cell_type": "code",
      "source": [
        "# @title polarization calibration, solving for leakage terms\n",
        "# unpolarized calibrators are ideal as any leakage must be systemic\n",
        "\n",
        "# polcal uses the Stokes I, Q, and U values in the model data (Q and U being zero for our unpolarized calibrator) to derive the leakage solutions\n",
        "polcal(vis=filename, caltable=leakageTable0, field=polCal, spw=spwWide, refant=refAnt, poltype='Df', solint='inf', combine='scan',\n",
        "       gaintable=[antposTable, delayTable, bandpassTable, gainTable, crossDelayTable], gainfield=['','','',polCal,''])\n",
        "\n",
        "# plot leakage amplitude and phase vs channel\n",
        "plotms(vis=leakageTable0, xaxis='chan', yaxis='amp', iteraxis='antenna', coloraxis='corr',\n",
        "       gridrows=gridr, gridcols=gridc, width=w, height=h, exprange='all', overwrite=True, plotfile=leakageAmpVsChannelPlot)\n",
        "plotms(vis=leakageTable0, xaxis='chan', yaxis='phase', iteraxis='antenna', coloraxis='corr', plotrange=[-1,-1,-180,180],\n",
        "       gridrows=gridr, gridcols=gridc, width=w, height=h, exprange='all', overwrite=True, plotfile=leakagePhaseVsChannelPlot)\n",
        "\n",
        "# plot leakage amplitude vs antenna index\n",
        "plotms(vis=leakageTable0, xaxis='antenna1', yaxis='amp', coloraxis='corr', overwrite=True,  plotfile=leakageAmpVsAntennaPlot0)\n",
        "\n",
        "# (TUTORIAL)\n",
        "# rescue an antenna that was missing for scans on the polarization calibrator\n",
        "# by observing the gain calibrator for sufficient parallactic angle (> 60 deg, a few hours), it can be used as a calibrator of unknown polarization\n",
        "polcal(vis=filename, caltable=leakageTable, field=gainCal, spw=spwWide, refant=refAnt, poltype='Df+QU', solint='inf', combine='scan',\n",
        "       gaintable=[antposTable, delayTable, bandpassTable, gainTable, crossDelayTable], gainfield=['','','',gainCal,''])\n",
        "\n",
        "# (TUTORIAL)\n",
        "# plot leakage amplitude vs antenna index again\n",
        "# now ea04 (index 3) is present\n",
        "# this plot looks similar to the previous plot, suggesting that our method is good since it produces similar results even with different calibrators\n",
        "plotms(vis=leakageTable, xaxis='antenna1', yaxis='amp', coloraxis='corr', overwrite=True,  plotfile=leakageAmpVsAntennaPlot)\n"
      ],
      "metadata": {
        "id": "WasbsE4atZtH"
      },
      "execution_count": null,
      "outputs": []
    },
    {
      "cell_type": "code",
      "source": [
        "# @title polarization calibration, solving for the RL polarization angle\n",
        "# polarized calibrators are ideal as they have a known polarization angle\n",
        "\n",
        "# calibrate the RL phase\n",
        "polcal(vis=filename, caltable=polPhaseTable, field=ampCal, combine='scan', refant=refAnt, poltype='Xf', solint='inf',\n",
        "       gaintable=[antposTable, delayTable, bandpassTable, gainTable, crossDelayTable, leakageTable], gainfield=['','','',ampCal,'',''])\n",
        "\n",
        "# plot position angle gain phase vs channel\n",
        "# we expect this plot to be continuous based on physical principles\n",
        "plotms(vis=polPhaseTable, xaxis='chan', yaxis='phase', overwrite=True, plotfile=polGainPhaseVsChannelPlot)\n"
      ],
      "metadata": {
        "id": "OJ7NFb9svINi"
      },
      "execution_count": null,
      "outputs": []
    },
    {
      "cell_type": "code",
      "source": [
        "# @title scaling the Amplitude Gains\n",
        "# the relative amplitudes are scaled to absolute amplitudes in this step\n",
        "# this is useful for comparing to known values/other observations\n",
        "\n",
        "# produce a new calibration table containing properly-scaled amplitude gains for the secondary calibrator\n",
        "myscale = fluxscale(vis=filename, caltable=gainTable, fluxtable=fluxTable, reference=[ampCal], transfer=[gainCal,ampCal], incremental=False)\n",
        "\n",
        "# plot the rescaled amplitudes vs time\n",
        "# expect less variation over time, showing amplitude gain factors are now more similar compared to the plots right after gain calibration\n",
        "plotms(vis=fluxTable,xaxis='time',yaxis='amp',correlation='R',coloraxis='baseline')\n",
        "plotms(vis=fluxTable,xaxis='time',yaxis='amp',correlation='L',coloraxis='baseline')\n"
      ],
      "metadata": {
        "id": "A1Rk9ziqvPGY"
      },
      "execution_count": null,
      "outputs": []
    },
    {
      "cell_type": "markdown",
      "source": [
        "# 5. Applying the calibration"
      ],
      "metadata": {
        "id": "CfGhkVe6wAcd"
      }
    },
    {
      "cell_type": "code",
      "source": [
        "# @title applying the calibration\n",
        "\n",
        "# apply the calibrations to each calibrator\n",
        "applycal(vis=filename, field=ampCal, gaintable=[antposTable,fluxTable,delayTable,bandpassTable,crossDelayTable,leakageTable,polPhaseTable],\n",
        "         gainfield=['',ampCal,'','','','',''], interp=['','nearest','','','','',''], calwt=[False], parang=True)\n",
        "applycal(vis=filename, field=polCal, gaintable=[antposTable,fluxTable,delayTable,bandpassTable,crossDelayTable,leakageTable,polPhaseTable],\n",
        "         gainfield=['',polCal,'','','','',''], interp=['','nearest','','','','',''], calwt=[False], parang=True)\n",
        "applycal(vis=filename, field=gainCal, gaintable=[antposTable,fluxTable,delayTable,bandpassTable,crossDelayTable,leakageTable,polPhaseTable],\n",
        "         gainfield=['',gainCal,'','','','',''], interp=['','nearest','','','','',''], calwt=[False], parang=True)\n",
        "\n",
        "# apply the calibrations to the target source\n",
        "applycal(vis=filename, field=mosaic, gaintable=[antposTable,fluxTable,delayTable,bandpassTable,crossDelayTable,leakageTable,polPhaseTable],\n",
        "         gainfield=['',gainCal,'','','','',''], interp=['','linear','','','','',''], calwt=[False], parang=True)\n"
      ],
      "metadata": {
        "id": "dLPo1FhiwF1A"
      },
      "execution_count": null,
      "outputs": []
    },
    {
      "cell_type": "code",
      "source": [
        "# @title plot the corrected calibrator sources\n",
        "# bad data that requires flagging and recalibration may show up here\n",
        "# we expect amplitude to decrease with frequency, linearly for our relatively narrow band\n",
        "# this can be due to scattering, absorption, and receiver design\n",
        "\n",
        "# plot corrected amplitude and phase vs channel for the amplitude calibrator\n",
        "plotms(vis=filename, field=ampCal, correlation='', timerange=timeRange, antenna='', avgtime=avgTime, xaxis='channel', yaxis='amp', ydatacolumn='corrected', coloraxis='corr',\n",
        "       overwrite=True, plotfile=ampCalCorrectedAmpVsChannelPlot)\n",
        "plotms(vis=filename, field=ampCal, correlation='', timerange=timeRange, antenna='', avgtime=avgTime, xaxis='channel', yaxis='phase', ydatacolumn='corrected', coloraxis='corr',\n",
        "       overwrite=True, plotfile=ampCalCorrectedPhaseVsChannelPlot, plotrange=[-1,-1,-180,180])\n",
        "\n",
        "# plot the corrected amplitude and phase vs channel for the gain calibrator\n",
        "# coloraxis() was not in the tutorial\n",
        "plotms(vis=filename, field=gainCal, correlation='RR,LL', timerange='', antenna='', avgtime=avgTime, xaxis='channel', yaxis='amp', ydatacolumn='corrected', coloraxis='corr'\n",
        "       overwrite=True, plotfile=gainCalCorrectedAmpVsChannelPlot)\n",
        "plotms(vis=filename, field=gainCal, correlation='RR,LL', timerange='', antenna='', avgtime=avgTime, xaxis='channel', yaxis='phase', ydatacolumn='corrected', coloraxis='corr',\n",
        "       overwrite=True, plotfile=gainCalCorrectedPhaseVsChannelPlot, plotrange=[-1,-1,-180,180])\n",
        "\n",
        "# plot the corrected amplitude vs corrected phase for RR or LL for the unpolarized gain calibrator\n",
        "# expect an oval of visibilities, with some scatter, centered at zero phase and at the amplitude\n",
        "# see tutorial version 4.7\n",
        "# plotms(vis=filename, field=gainCal, correlation='RR,LL', timerange='',antenna='', avgtime=avgTime, xaxis='phase', xdatacolumn='corrected', yaxis='amp', ydatacolumn='corrected',\n",
        "#        plotrange=[-180,180,0,3], coloraxis='corr')"
      ],
      "metadata": {
        "id": "La34f2NSy1RG"
      },
      "execution_count": null,
      "outputs": []
    },
    {
      "cell_type": "code",
      "source": [
        "# @title obtain the calibrated measurement set\n",
        "\n",
        "# split off the targets and create a new, calibrated measurement set\n",
        "split(vis=filename, outputvis=filenameCal, datacolumn='corrected', field=mosaic)\n",
        "\n",
        "# correct the data weights (weight and sigma columns) in the measurement set\n",
        "# remove the effects of relative noise scatter that may have been introduced from flagging uneven bits in the visibility data between the channels and times\n",
        "statwt(vis=filenameCal, datacolumn='data')"
      ],
      "metadata": {
        "cellView": "form",
        "id": "CGAW4D3T2ll9"
      },
      "execution_count": null,
      "outputs": []
    },
    {
      "cell_type": "markdown",
      "source": [
        "# 6. Initial imaging"
      ],
      "metadata": {
        "id": "cHqmprO33UfP"
      }
    },
    {
      "cell_type": "code",
      "source": [
        "# @title plot calibrated amplitude vs baseline\n",
        "# we expect greater observed flux at shorter baselines for extended sources, since shorter baselines see more of the sky, supernovae remnants are extended\n",
        "# we expect point sources to be at constant flux with frequency\n",
        "# field numbers have changed\n",
        "plotms(vis=filenameCal, xaxis='uvwave', yaxis='amp', ydatacolumn='data', field=target, avgtime=avgTime/2, correlation='RR',\n",
        "        overwrite=True, plotfile=targetCorrectedAmpVsBaselinePlot)\n"
      ],
      "metadata": {
        "id": "iHW2ZJEo3ZI6",
        "cellView": "form"
      },
      "execution_count": null,
      "outputs": []
    },
    {
      "cell_type": "code",
      "source": [
        "# @title image and deconvolute the calibrated target\n",
        "\n",
        "# tclean() only removes the contributions of the dirty beam\n",
        "# noise part of the true sky image (residuals) are retained\n",
        "# VLA resolves 1/16k radians on longest baseline which is ~12 arcsec\n",
        "# effective cleaning occurs at 3-5 image pixels per resolution pixel (12\"/2.5\"~5)\n",
        "# target is ~ 9' ~ 540\" ~ 216 image pixels\n",
        "# efficient if the image dimensions are a multiple of 30\n",
        "# tclean() applies an internal 1.2 multipler on image dimension\n",
        "# use M2 to select regions containing emission sources\n",
        "# double M2 to confirm region\n",
        "# select Erase instead of Add to select regions to remove\n",
        "# tap M3 to change saturation\n",
        "# iterate multi scale clean\n",
        "tclean(vis=filenameCal,\n",
        "      imagename=cleanImage,\n",
        "      field='',spw='',\n",
        "      mode='mfs',\n",
        "      niter=5000,\n",
        "      gain=0.1, threshold='1.0mJy',\n",
        "      psfmode='clark',\n",
        "      imagermode='mosaic', ftmachine='mosaic',\n",
        "      multiscale=[0],\n",
        "      interactive=True,\n",
        "      imsize=[480,480], cell=['2.5arcsec','2.5arcsec'],\n",
        "      stokes='I',\n",
        "      weighting='briggs',robust=0.5,\n",
        "      usescratch=False)"
      ],
      "metadata": {
        "cellView": "form",
        "id": "YWNSlaSn-grH"
      },
      "execution_count": null,
      "outputs": []
    },
    {
      "cell_type": "markdown",
      "source": [],
      "metadata": {
        "id": "ErwTyd3CAT7O"
      }
    },
    {
      "cell_type": "code",
      "source": [
        "# @title view the target image\n",
        "# comprised of clean components convolved with a restoring beam and added to the remaining residuals\n",
        "viewer(cleanImage+'.image')"
      ],
      "metadata": {
        "cellView": "form",
        "id": "POm1zTiA_ZJM"
      },
      "execution_count": null,
      "outputs": []
    },
    {
      "cell_type": "markdown",
      "source": [
        "# Bugs & Other\n",
        "- screen locked, just showing background, run the following in Terminal\n",
        " - ssh -L 5903:localhost:5900 hanyu@keppie.dunlap.utoronto.ca\n",
        " - % kill WindowServer\n",
        " - % killall -u hanyu\n",
        "- plotting the 4 correlations of 25 baselines per antenna1 gives 100 lines\n",
        " - corr='RR' only plots the RR correlation, giving only 25 lines\n",
        " - plotms(vis=filename, xaxis='freq', yaxis='amp', iteraxis='antenna',field=ampCal)\n",
        "- radio frequency interference (RFI) from human sources needs to be filtered\n",
        " - astronomical sources are very faint, thus flag strong signals that appear when inspecting RL, LR fields\n",
        " - external programs and CASA can do this much more precisely than by eye\n"
      ],
      "metadata": {
        "id": "Sf6bjSm9_1R6"
      }
    }
  ]
}